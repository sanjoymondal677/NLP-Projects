{
 "cells": [
  {
   "cell_type": "code",
   "execution_count": 1,
   "id": "0299cd84",
   "metadata": {
    "_cell_guid": "b1076dfc-b9ad-4769-8c92-a6c4dae69d19",
    "_uuid": "8f2839f25d086af736a60e9eeb907d3b93b6e0e5",
    "execution": {
     "iopub.execute_input": "2022-02-12T19:48:46.142270Z",
     "iopub.status.busy": "2022-02-12T19:48:46.140366Z",
     "iopub.status.idle": "2022-02-12T19:48:46.162843Z",
     "shell.execute_reply": "2022-02-12T19:48:46.163743Z",
     "shell.execute_reply.started": "2022-02-12T19:46:06.556342Z"
    },
    "papermill": {
     "duration": 0.085896,
     "end_time": "2022-02-12T19:48:46.164108",
     "exception": false,
     "start_time": "2022-02-12T19:48:46.078212",
     "status": "completed"
    },
    "tags": []
   },
   "outputs": [
    {
     "name": "stdout",
     "output_type": "stream",
     "text": [
      "/kaggle/input/financial-sentiment-analysis/data.csv\n"
     ]
    }
   ],
   "source": [
    "# This Python 3 environment comes with many helpful analytics libraries installed\n",
    "# It is defined by the kaggle/python Docker image: https://github.com/kaggle/docker-python\n",
    "# For example, here's several helpful packages to load\n",
    "\n",
    "import numpy as np # linear algebra\n",
    "import pandas as pd # data processing, CSV file I/O (e.g. pd.read_csv)\n",
    "\n",
    "# Input data files are available in the read-only \"../input/\" directory\n",
    "# For example, running this (by clicking run or pressing Shift+Enter) will list all files under the input directory\n",
    "\n",
    "import os\n",
    "for dirname, _, filenames in os.walk('/kaggle/input'):\n",
    "    for filename in filenames:\n",
    "        print(os.path.join(dirname, filename))\n",
    "\n",
    "# You can write up to 20GB to the current directory (/kaggle/working/) that gets preserved as output when you create a version using \"Save & Run All\" \n",
    "# You can also write temporary files to /kaggle/temp/, but they won't be saved outside of the current session"
   ]
  },
  {
   "cell_type": "markdown",
   "id": "916e0879",
   "metadata": {
    "papermill": {
     "duration": 0.058281,
     "end_time": "2022-02-12T19:48:46.292103",
     "exception": false,
     "start_time": "2022-02-12T19:48:46.233822",
     "status": "completed"
    },
    "tags": []
   },
   "source": [
    "<h2>DataSet</h2> The following data is intended for advancing financial sentiment analysis research"
   ]
  },
  {
   "cell_type": "markdown",
   "id": "6c62815b",
   "metadata": {
    "papermill": {
     "duration": 0.051967,
     "end_time": "2022-02-12T19:48:46.396248",
     "exception": false,
     "start_time": "2022-02-12T19:48:46.344281",
     "status": "completed"
    },
    "tags": []
   },
   "source": [
    "<b>Sentence</b> :  Financial sentence<br>\n",
    "<b>Sentiment</b> : Sentence sentiment"
   ]
  },
  {
   "cell_type": "markdown",
   "id": "4221785c",
   "metadata": {
    "papermill": {
     "duration": 0.052332,
     "end_time": "2022-02-12T19:48:46.500576",
     "exception": false,
     "start_time": "2022-02-12T19:48:46.448244",
     "status": "completed"
    },
    "tags": []
   },
   "source": [
    "<h2>DataSet Link</h2>"
   ]
  },
  {
   "cell_type": "markdown",
   "id": "8b27855a",
   "metadata": {
    "papermill": {
     "duration": 0.051732,
     "end_time": "2022-02-12T19:48:46.605190",
     "exception": false,
     "start_time": "2022-02-12T19:48:46.553458",
     "status": "completed"
    },
    "tags": []
   },
   "source": [
    "https://www.kaggle.com/sbhatti/financial-sentiment-analysis"
   ]
  },
  {
   "cell_type": "code",
   "execution_count": 2,
   "id": "edcbf3f4",
   "metadata": {
    "execution": {
     "iopub.execute_input": "2022-02-12T19:48:46.712271Z",
     "iopub.status.busy": "2022-02-12T19:48:46.711581Z",
     "iopub.status.idle": "2022-02-12T19:48:47.764190Z",
     "shell.execute_reply": "2022-02-12T19:48:47.763191Z",
     "shell.execute_reply.started": "2022-02-12T19:46:06.573461Z"
    },
    "papermill": {
     "duration": 1.107164,
     "end_time": "2022-02-12T19:48:47.764341",
     "exception": false,
     "start_time": "2022-02-12T19:48:46.657177",
     "status": "completed"
    },
    "tags": []
   },
   "outputs": [],
   "source": [
    "#import libraries\n",
    "import numpy as np\n",
    "import pandas as pd\n",
    "import matplotlib.pyplot as plt\n",
    "import seaborn as sns"
   ]
  },
  {
   "cell_type": "code",
   "execution_count": 3,
   "id": "38dc11bd",
   "metadata": {
    "execution": {
     "iopub.execute_input": "2022-02-12T19:48:47.872131Z",
     "iopub.status.busy": "2022-02-12T19:48:47.871467Z",
     "iopub.status.idle": "2022-02-12T19:48:47.910816Z",
     "shell.execute_reply": "2022-02-12T19:48:47.910163Z",
     "shell.execute_reply.started": "2022-02-12T19:46:06.580092Z"
    },
    "papermill": {
     "duration": 0.093966,
     "end_time": "2022-02-12T19:48:47.910971",
     "exception": false,
     "start_time": "2022-02-12T19:48:47.817005",
     "status": "completed"
    },
    "tags": []
   },
   "outputs": [],
   "source": [
    "#Load the dataset\n",
    "data = pd.read_csv(\"../input/financial-sentiment-analysis/data.csv\")"
   ]
  },
  {
   "cell_type": "code",
   "execution_count": 4,
   "id": "24d3b347",
   "metadata": {
    "execution": {
     "iopub.execute_input": "2022-02-12T19:48:48.019505Z",
     "iopub.status.busy": "2022-02-12T19:48:48.018793Z",
     "iopub.status.idle": "2022-02-12T19:48:48.035362Z",
     "shell.execute_reply": "2022-02-12T19:48:48.035878Z",
     "shell.execute_reply.started": "2022-02-12T19:46:06.609423Z"
    },
    "papermill": {
     "duration": 0.072328,
     "end_time": "2022-02-12T19:48:48.036046",
     "exception": false,
     "start_time": "2022-02-12T19:48:47.963718",
     "status": "completed"
    },
    "tags": []
   },
   "outputs": [
    {
     "data": {
      "text/html": [
       "<div>\n",
       "<style scoped>\n",
       "    .dataframe tbody tr th:only-of-type {\n",
       "        vertical-align: middle;\n",
       "    }\n",
       "\n",
       "    .dataframe tbody tr th {\n",
       "        vertical-align: top;\n",
       "    }\n",
       "\n",
       "    .dataframe thead th {\n",
       "        text-align: right;\n",
       "    }\n",
       "</style>\n",
       "<table border=\"1\" class=\"dataframe\">\n",
       "  <thead>\n",
       "    <tr style=\"text-align: right;\">\n",
       "      <th></th>\n",
       "      <th>Unnamed: 0</th>\n",
       "      <th>Sentence</th>\n",
       "      <th>Sentiment</th>\n",
       "    </tr>\n",
       "  </thead>\n",
       "  <tbody>\n",
       "    <tr>\n",
       "      <th>0</th>\n",
       "      <td>0</td>\n",
       "      <td>The GeoSolutions technology will leverage Bene...</td>\n",
       "      <td>positive</td>\n",
       "    </tr>\n",
       "    <tr>\n",
       "      <th>1</th>\n",
       "      <td>1</td>\n",
       "      <td>$ESI on lows, down $1.50 to $2.50 BK a real po...</td>\n",
       "      <td>negative</td>\n",
       "    </tr>\n",
       "    <tr>\n",
       "      <th>2</th>\n",
       "      <td>2</td>\n",
       "      <td>For the last quarter of 2010 , Componenta 's n...</td>\n",
       "      <td>positive</td>\n",
       "    </tr>\n",
       "    <tr>\n",
       "      <th>3</th>\n",
       "      <td>3</td>\n",
       "      <td>According to the Finnish-Russian Chamber of Co...</td>\n",
       "      <td>neutral</td>\n",
       "    </tr>\n",
       "    <tr>\n",
       "      <th>4</th>\n",
       "      <td>4</td>\n",
       "      <td>The Swedish buyout firm has sold its remaining...</td>\n",
       "      <td>neutral</td>\n",
       "    </tr>\n",
       "  </tbody>\n",
       "</table>\n",
       "</div>"
      ],
      "text/plain": [
       "   Unnamed: 0                                           Sentence Sentiment\n",
       "0           0  The GeoSolutions technology will leverage Bene...  positive\n",
       "1           1  $ESI on lows, down $1.50 to $2.50 BK a real po...  negative\n",
       "2           2  For the last quarter of 2010 , Componenta 's n...  positive\n",
       "3           3  According to the Finnish-Russian Chamber of Co...   neutral\n",
       "4           4  The Swedish buyout firm has sold its remaining...   neutral"
      ]
     },
     "execution_count": 4,
     "metadata": {},
     "output_type": "execute_result"
    }
   ],
   "source": [
    "data.head()"
   ]
  },
  {
   "cell_type": "code",
   "execution_count": 5,
   "id": "4731b548",
   "metadata": {
    "execution": {
     "iopub.execute_input": "2022-02-12T19:48:48.145007Z",
     "iopub.status.busy": "2022-02-12T19:48:48.144358Z",
     "iopub.status.idle": "2022-02-12T19:48:48.154151Z",
     "shell.execute_reply": "2022-02-12T19:48:48.154691Z",
     "shell.execute_reply.started": "2022-02-12T19:46:06.620223Z"
    },
    "papermill": {
     "duration": 0.065543,
     "end_time": "2022-02-12T19:48:48.154876",
     "exception": false,
     "start_time": "2022-02-12T19:48:48.089333",
     "status": "completed"
    },
    "tags": []
   },
   "outputs": [],
   "source": [
    "#Drop the unimportant columns\n",
    "data = data.drop('Unnamed: 0',axis=1)"
   ]
  },
  {
   "cell_type": "code",
   "execution_count": 6,
   "id": "2a6a32d0",
   "metadata": {
    "execution": {
     "iopub.execute_input": "2022-02-12T19:48:48.263615Z",
     "iopub.status.busy": "2022-02-12T19:48:48.262979Z",
     "iopub.status.idle": "2022-02-12T19:48:48.282417Z",
     "shell.execute_reply": "2022-02-12T19:48:48.283428Z",
     "shell.execute_reply.started": "2022-02-12T19:46:06.630745Z"
    },
    "papermill": {
     "duration": 0.076431,
     "end_time": "2022-02-12T19:48:48.283670",
     "exception": false,
     "start_time": "2022-02-12T19:48:48.207239",
     "status": "completed"
    },
    "tags": []
   },
   "outputs": [
    {
     "name": "stdout",
     "output_type": "stream",
     "text": [
      "<class 'pandas.core.frame.DataFrame'>\n",
      "RangeIndex: 5842 entries, 0 to 5841\n",
      "Data columns (total 2 columns):\n",
      " #   Column     Non-Null Count  Dtype \n",
      "---  ------     --------------  ----- \n",
      " 0   Sentence   5842 non-null   object\n",
      " 1   Sentiment  5842 non-null   object\n",
      "dtypes: object(2)\n",
      "memory usage: 91.4+ KB\n"
     ]
    }
   ],
   "source": [
    "data.info()"
   ]
  },
  {
   "cell_type": "code",
   "execution_count": 7,
   "id": "8cd5cf33",
   "metadata": {
    "execution": {
     "iopub.execute_input": "2022-02-12T19:48:48.393535Z",
     "iopub.status.busy": "2022-02-12T19:48:48.392872Z",
     "iopub.status.idle": "2022-02-12T19:48:48.400982Z",
     "shell.execute_reply": "2022-02-12T19:48:48.401534Z",
     "shell.execute_reply.started": "2022-02-12T19:46:06.651806Z"
    },
    "papermill": {
     "duration": 0.06428,
     "end_time": "2022-02-12T19:48:48.401710",
     "exception": false,
     "start_time": "2022-02-12T19:48:48.337430",
     "status": "completed"
    },
    "tags": []
   },
   "outputs": [
    {
     "data": {
      "text/plain": [
       "Sentence     0\n",
       "Sentiment    0\n",
       "dtype: int64"
      ]
     },
     "execution_count": 7,
     "metadata": {},
     "output_type": "execute_result"
    }
   ],
   "source": [
    "data.isnull().sum()"
   ]
  },
  {
   "cell_type": "code",
   "execution_count": 8,
   "id": "e90a44a0",
   "metadata": {
    "execution": {
     "iopub.execute_input": "2022-02-12T19:48:48.511501Z",
     "iopub.status.busy": "2022-02-12T19:48:48.510874Z",
     "iopub.status.idle": "2022-02-12T19:48:48.519287Z",
     "shell.execute_reply": "2022-02-12T19:48:48.519915Z",
     "shell.execute_reply.started": "2022-02-12T19:46:06.661912Z"
    },
    "papermill": {
     "duration": 0.065109,
     "end_time": "2022-02-12T19:48:48.520087",
     "exception": false,
     "start_time": "2022-02-12T19:48:48.454978",
     "status": "completed"
    },
    "tags": []
   },
   "outputs": [
    {
     "data": {
      "text/html": [
       "<div>\n",
       "<style scoped>\n",
       "    .dataframe tbody tr th:only-of-type {\n",
       "        vertical-align: middle;\n",
       "    }\n",
       "\n",
       "    .dataframe tbody tr th {\n",
       "        vertical-align: top;\n",
       "    }\n",
       "\n",
       "    .dataframe thead th {\n",
       "        text-align: right;\n",
       "    }\n",
       "</style>\n",
       "<table border=\"1\" class=\"dataframe\">\n",
       "  <thead>\n",
       "    <tr style=\"text-align: right;\">\n",
       "      <th></th>\n",
       "      <th>Sentence</th>\n",
       "      <th>Sentiment</th>\n",
       "    </tr>\n",
       "  </thead>\n",
       "  <tbody>\n",
       "    <tr>\n",
       "      <th>0</th>\n",
       "      <td>The GeoSolutions technology will leverage Bene...</td>\n",
       "      <td>positive</td>\n",
       "    </tr>\n",
       "    <tr>\n",
       "      <th>1</th>\n",
       "      <td>$ESI on lows, down $1.50 to $2.50 BK a real po...</td>\n",
       "      <td>negative</td>\n",
       "    </tr>\n",
       "    <tr>\n",
       "      <th>2</th>\n",
       "      <td>For the last quarter of 2010 , Componenta 's n...</td>\n",
       "      <td>positive</td>\n",
       "    </tr>\n",
       "    <tr>\n",
       "      <th>3</th>\n",
       "      <td>According to the Finnish-Russian Chamber of Co...</td>\n",
       "      <td>neutral</td>\n",
       "    </tr>\n",
       "    <tr>\n",
       "      <th>4</th>\n",
       "      <td>The Swedish buyout firm has sold its remaining...</td>\n",
       "      <td>neutral</td>\n",
       "    </tr>\n",
       "  </tbody>\n",
       "</table>\n",
       "</div>"
      ],
      "text/plain": [
       "                                            Sentence Sentiment\n",
       "0  The GeoSolutions technology will leverage Bene...  positive\n",
       "1  $ESI on lows, down $1.50 to $2.50 BK a real po...  negative\n",
       "2  For the last quarter of 2010 , Componenta 's n...  positive\n",
       "3  According to the Finnish-Russian Chamber of Co...   neutral\n",
       "4  The Swedish buyout firm has sold its remaining...   neutral"
      ]
     },
     "execution_count": 8,
     "metadata": {},
     "output_type": "execute_result"
    }
   ],
   "source": [
    "data.head()"
   ]
  },
  {
   "cell_type": "code",
   "execution_count": 9,
   "id": "0de20622",
   "metadata": {
    "execution": {
     "iopub.execute_input": "2022-02-12T19:48:48.633500Z",
     "iopub.status.busy": "2022-02-12T19:48:48.632823Z",
     "iopub.status.idle": "2022-02-12T19:48:48.639976Z",
     "shell.execute_reply": "2022-02-12T19:48:48.640545Z",
     "shell.execute_reply.started": "2022-02-12T19:46:06.679578Z"
    },
    "papermill": {
     "duration": 0.065249,
     "end_time": "2022-02-12T19:48:48.640719",
     "exception": false,
     "start_time": "2022-02-12T19:48:48.575470",
     "status": "completed"
    },
    "tags": []
   },
   "outputs": [
    {
     "data": {
      "text/plain": [
       "neutral     3130\n",
       "positive    1852\n",
       "negative     860\n",
       "Name: Sentiment, dtype: int64"
      ]
     },
     "execution_count": 9,
     "metadata": {},
     "output_type": "execute_result"
    }
   ],
   "source": [
    "data['Sentiment'].value_counts()"
   ]
  },
  {
   "cell_type": "code",
   "execution_count": 10,
   "id": "ce43efc9",
   "metadata": {
    "execution": {
     "iopub.execute_input": "2022-02-12T19:48:48.752264Z",
     "iopub.status.busy": "2022-02-12T19:48:48.751586Z",
     "iopub.status.idle": "2022-02-12T19:48:48.984355Z",
     "shell.execute_reply": "2022-02-12T19:48:48.983806Z",
     "shell.execute_reply.started": "2022-02-12T19:46:06.692019Z"
    },
    "papermill": {
     "duration": 0.289683,
     "end_time": "2022-02-12T19:48:48.984520",
     "exception": false,
     "start_time": "2022-02-12T19:48:48.694837",
     "status": "completed"
    },
    "tags": []
   },
   "outputs": [
    {
     "data": {
      "image/png": "[encoded data removed]",
      "text/plain": [
       "<Figure size 1008x648 with 1 Axes>"
      ]
     },
     "metadata": {
      "needs_background": "light"
     },
     "output_type": "display_data"
    }
   ],
   "source": [
    "plt.figure(figsize=(14,9))\n",
    "sns.countplot(x = 'Sentiment',data=data,palette ='coolwarm')\n",
    "plt.xlabel(\"Sentiment\",fontweight='bold',size=15)\n",
    "plt.ylabel(\"Count\",fontweight='bold',size=15)\n",
    "plt.show()"
   ]
  },
  {
   "cell_type": "markdown",
   "id": "4d01c9aa",
   "metadata": {
    "papermill": {
     "duration": 0.056193,
     "end_time": "2022-02-12T19:48:49.096419",
     "exception": false,
     "start_time": "2022-02-12T19:48:49.040226",
     "status": "completed"
    },
    "tags": []
   },
   "source": [
    "# Apply encoding into Sentiments column"
   ]
  },
  {
   "cell_type": "code",
   "execution_count": 11,
   "id": "408f3a93",
   "metadata": {
    "execution": {
     "iopub.execute_input": "2022-02-12T19:48:49.210564Z",
     "iopub.status.busy": "2022-02-12T19:48:49.209846Z",
     "iopub.status.idle": "2022-02-12T19:48:49.351076Z",
     "shell.execute_reply": "2022-02-12T19:48:49.351540Z",
     "shell.execute_reply.started": "2022-02-12T19:46:06.854881Z"
    },
    "papermill": {
     "duration": 0.199765,
     "end_time": "2022-02-12T19:48:49.351718",
     "exception": false,
     "start_time": "2022-02-12T19:48:49.151953",
     "status": "completed"
    },
    "tags": []
   },
   "outputs": [
    {
     "data": {
      "text/html": [
       "<div>\n",
       "<style scoped>\n",
       "    .dataframe tbody tr th:only-of-type {\n",
       "        vertical-align: middle;\n",
       "    }\n",
       "\n",
       "    .dataframe tbody tr th {\n",
       "        vertical-align: top;\n",
       "    }\n",
       "\n",
       "    .dataframe thead th {\n",
       "        text-align: right;\n",
       "    }\n",
       "</style>\n",
       "<table border=\"1\" class=\"dataframe\">\n",
       "  <thead>\n",
       "    <tr style=\"text-align: right;\">\n",
       "      <th></th>\n",
       "      <th>Sentence</th>\n",
       "      <th>Sentiment</th>\n",
       "    </tr>\n",
       "  </thead>\n",
       "  <tbody>\n",
       "    <tr>\n",
       "      <th>0</th>\n",
       "      <td>The GeoSolutions technology will leverage Bene...</td>\n",
       "      <td>2</td>\n",
       "    </tr>\n",
       "    <tr>\n",
       "      <th>1</th>\n",
       "      <td>$ESI on lows, down $1.50 to $2.50 BK a real po...</td>\n",
       "      <td>0</td>\n",
       "    </tr>\n",
       "    <tr>\n",
       "      <th>2</th>\n",
       "      <td>For the last quarter of 2010 , Componenta 's n...</td>\n",
       "      <td>2</td>\n",
       "    </tr>\n",
       "    <tr>\n",
       "      <th>3</th>\n",
       "      <td>According to the Finnish-Russian Chamber of Co...</td>\n",
       "      <td>1</td>\n",
       "    </tr>\n",
       "    <tr>\n",
       "      <th>4</th>\n",
       "      <td>The Swedish buyout firm has sold its remaining...</td>\n",
       "      <td>1</td>\n",
       "    </tr>\n",
       "    <tr>\n",
       "      <th>...</th>\n",
       "      <td>...</td>\n",
       "      <td>...</td>\n",
       "    </tr>\n",
       "    <tr>\n",
       "      <th>5837</th>\n",
       "      <td>RISING costs have forced packaging producer Hu...</td>\n",
       "      <td>0</td>\n",
       "    </tr>\n",
       "    <tr>\n",
       "      <th>5838</th>\n",
       "      <td>Nordic Walking was first used as a summer trai...</td>\n",
       "      <td>1</td>\n",
       "    </tr>\n",
       "    <tr>\n",
       "      <th>5839</th>\n",
       "      <td>According shipping company Viking Line , the E...</td>\n",
       "      <td>1</td>\n",
       "    </tr>\n",
       "    <tr>\n",
       "      <th>5840</th>\n",
       "      <td>In the building and home improvement trade , s...</td>\n",
       "      <td>1</td>\n",
       "    </tr>\n",
       "    <tr>\n",
       "      <th>5841</th>\n",
       "      <td>HELSINKI AFX - KCI Konecranes said it has won ...</td>\n",
       "      <td>2</td>\n",
       "    </tr>\n",
       "  </tbody>\n",
       "</table>\n",
       "<p>5842 rows × 2 columns</p>\n",
       "</div>"
      ],
      "text/plain": [
       "                                               Sentence  Sentiment\n",
       "0     The GeoSolutions technology will leverage Bene...          2\n",
       "1     $ESI on lows, down $1.50 to $2.50 BK a real po...          0\n",
       "2     For the last quarter of 2010 , Componenta 's n...          2\n",
       "3     According to the Finnish-Russian Chamber of Co...          1\n",
       "4     The Swedish buyout firm has sold its remaining...          1\n",
       "...                                                 ...        ...\n",
       "5837  RISING costs have forced packaging producer Hu...          0\n",
       "5838  Nordic Walking was first used as a summer trai...          1\n",
       "5839  According shipping company Viking Line , the E...          1\n",
       "5840  In the building and home improvement trade , s...          1\n",
       "5841  HELSINKI AFX - KCI Konecranes said it has won ...          2\n",
       "\n",
       "[5842 rows x 2 columns]"
      ]
     },
     "execution_count": 11,
     "metadata": {},
     "output_type": "execute_result"
    }
   ],
   "source": [
    "def LABEL_ENCODING(c1):\n",
    "    from sklearn import preprocessing\n",
    "    label_encoder = preprocessing.LabelEncoder()\n",
    "    data[c1]= label_encoder.fit_transform(data[c1])\n",
    "    data[c1].unique()\n",
    "LABEL_ENCODING(\"Sentiment\")\n",
    "data"
   ]
  },
  {
   "cell_type": "markdown",
   "id": "c5f5b309",
   "metadata": {
    "papermill": {
     "duration": 0.055446,
     "end_time": "2022-02-12T19:48:49.462991",
     "exception": false,
     "start_time": "2022-02-12T19:48:49.407545",
     "status": "completed"
    },
    "tags": []
   },
   "source": [
    "# Word cloud of Sentence Text"
   ]
  },
  {
   "cell_type": "code",
   "execution_count": 12,
   "id": "777b272f",
   "metadata": {
    "execution": {
     "iopub.execute_input": "2022-02-12T19:48:49.578444Z",
     "iopub.status.busy": "2022-02-12T19:48:49.577729Z",
     "iopub.status.idle": "2022-02-12T19:48:51.015850Z",
     "shell.execute_reply": "2022-02-12T19:48:51.016364Z",
     "shell.execute_reply.started": "2022-02-12T19:46:06.876366Z"
    },
    "papermill": {
     "duration": 1.497649,
     "end_time": "2022-02-12T19:48:51.016556",
     "exception": false,
     "start_time": "2022-02-12T19:48:49.518907",
     "status": "completed"
    },
    "tags": []
   },
   "outputs": [
    {
     "data": {
      "image/png": "[encoded data removed]",
      "text/plain": [
       "<Figure size 1080x720 with 1 Axes>"
      ]
     },
     "metadata": {
      "needs_background": "light"
     },
     "output_type": "display_data"
    }
   ],
   "source": [
    "from wordcloud import WordCloud\n",
    "from wordcloud import STOPWORDS\n",
    "from wordcloud import ImageColorGenerator\n",
    "text = \" \".join(i for i in data.Sentence)\n",
    "stopwords = set(STOPWORDS)\n",
    "wordcloud = WordCloud(stopwords=stopwords, background_color=\"white\").generate(text)\n",
    "plt.figure( figsize=(15,10))\n",
    "plt.imshow(wordcloud, interpolation='bilinear')\n",
    "plt.axis(\"off\")\n",
    "plt.show()"
   ]
  },
  {
   "cell_type": "markdown",
   "id": "e1e52bf9",
   "metadata": {
    "papermill": {
     "duration": 0.067239,
     "end_time": "2022-02-12T19:48:51.151486",
     "exception": false,
     "start_time": "2022-02-12T19:48:51.084247",
     "status": "completed"
    },
    "tags": []
   },
   "source": [
    "# Cleaning the Sentence"
   ]
  },
  {
   "cell_type": "code",
   "execution_count": 13,
   "id": "b30846f0",
   "metadata": {
    "execution": {
     "iopub.execute_input": "2022-02-12T19:48:51.290774Z",
     "iopub.status.busy": "2022-02-12T19:48:51.290038Z",
     "iopub.status.idle": "2022-02-12T19:48:56.020464Z",
     "shell.execute_reply": "2022-02-12T19:48:56.019703Z",
     "shell.execute_reply.started": "2022-02-12T19:46:08.194140Z"
    },
    "papermill": {
     "duration": 4.800446,
     "end_time": "2022-02-12T19:48:56.020655",
     "exception": false,
     "start_time": "2022-02-12T19:48:51.220209",
     "status": "completed"
    },
    "tags": []
   },
   "outputs": [
    {
     "name": "stdout",
     "output_type": "stream",
     "text": [
      "[nltk_data] Downloading package stopwords to /usr/share/nltk_data...\n",
      "[nltk_data]   Package stopwords is already up-to-date!\n"
     ]
    }
   ],
   "source": [
    "import re\n",
    "import nltk\n",
    "nltk.download('stopwords')\n",
    "from nltk.corpus import stopwords\n",
    "from nltk.stem.porter import PorterStemmer\n",
    "corpus = []\n",
    "for i in range(0, len(data)):\n",
    "  review = re.sub('[^a-zA-Z]', ' ', data['Sentence'][i])\n",
    "  review = review.lower()\n",
    "  review = review.split()\n",
    "  ps = PorterStemmer()\n",
    "  all_stopwords = stopwords.words('english')\n",
    "  all_stopwords.remove('not')\n",
    "  review = [ps.stem(word) for word in review if not word in set(all_stopwords)]\n",
    "  review = ' '.join(review)\n",
    "  corpus.append(review)"
   ]
  },
  {
   "cell_type": "code",
   "execution_count": 14,
   "id": "5fdbabc1",
   "metadata": {
    "execution": {
     "iopub.execute_input": "2022-02-12T19:48:56.170371Z",
     "iopub.status.busy": "2022-02-12T19:48:56.169710Z",
     "iopub.status.idle": "2022-02-12T19:48:56.175511Z",
     "shell.execute_reply": "2022-02-12T19:48:56.176111Z",
     "shell.execute_reply.started": "2022-02-12T19:46:11.881955Z"
    },
    "papermill": {
     "duration": 0.08496,
     "end_time": "2022-02-12T19:48:56.176284",
     "exception": false,
     "start_time": "2022-02-12T19:48:56.091324",
     "status": "completed"
    },
    "tags": []
   },
   "outputs": [
    {
     "data": {
      "text/plain": [
       "['geosolut technolog leverag benefon gp solut provid locat base search technolog commun platform locat relev multimedia content new power commerci model',\n",
       " 'esi low bk real possibl',\n",
       " 'last quarter componenta net sale doubl eur eur period year earlier move zero pre tax profit pre tax loss eur']"
      ]
     },
     "execution_count": 14,
     "metadata": {},
     "output_type": "execute_result"
    }
   ],
   "source": [
    "corpus[0:3]"
   ]
  },
  {
   "cell_type": "markdown",
   "id": "08d1b0c0",
   "metadata": {
    "papermill": {
     "duration": 0.068238,
     "end_time": "2022-02-12T19:48:56.313068",
     "exception": false,
     "start_time": "2022-02-12T19:48:56.244830",
     "status": "completed"
    },
    "tags": []
   },
   "source": [
    "# Creating the Bag of Words model"
   ]
  },
  {
   "cell_type": "code",
   "execution_count": 15,
   "id": "891b5a04",
   "metadata": {
    "execution": {
     "iopub.execute_input": "2022-02-12T19:48:56.493664Z",
     "iopub.status.busy": "2022-02-12T19:48:56.462022Z",
     "iopub.status.idle": "2022-02-12T19:48:57.221244Z",
     "shell.execute_reply": "2022-02-12T19:48:57.222590Z",
     "shell.execute_reply.started": "2022-02-12T19:46:11.891207Z"
    },
    "papermill": {
     "duration": 0.83698,
     "end_time": "2022-02-12T19:48:57.222857",
     "exception": false,
     "start_time": "2022-02-12T19:48:56.385877",
     "status": "completed"
    },
    "tags": []
   },
   "outputs": [],
   "source": [
    "from sklearn.feature_extraction.text import CountVectorizer\n",
    "cv = CountVectorizer(max_features = 1500,ngram_range=(1,3))\n",
    "X = cv.fit_transform(corpus).toarray()\n",
    "y = data.iloc[:, -1].values"
   ]
  },
  {
   "cell_type": "markdown",
   "id": "d7da02fd",
   "metadata": {
    "papermill": {
     "duration": 0.067304,
     "end_time": "2022-02-12T19:48:57.371067",
     "exception": false,
     "start_time": "2022-02-12T19:48:57.303763",
     "status": "completed"
    },
    "tags": []
   },
   "source": [
    "# Splitting the dataset into the Training set and Test set"
   ]
  },
  {
   "cell_type": "code",
   "execution_count": 16,
   "id": "ccd0fba5",
   "metadata": {
    "execution": {
     "iopub.execute_input": "2022-02-12T19:48:57.509666Z",
     "iopub.status.busy": "2022-02-12T19:48:57.508952Z",
     "iopub.status.idle": "2022-02-12T19:48:57.568443Z",
     "shell.execute_reply": "2022-02-12T19:48:57.567813Z",
     "shell.execute_reply.started": "2022-02-12T19:46:12.454109Z"
    },
    "papermill": {
     "duration": 0.129925,
     "end_time": "2022-02-12T19:48:57.568588",
     "exception": false,
     "start_time": "2022-02-12T19:48:57.438663",
     "status": "completed"
    },
    "tags": []
   },
   "outputs": [],
   "source": [
    "from sklearn.model_selection import train_test_split\n",
    "X_train, X_test, y_train, y_test = train_test_split(X, y, test_size = 0.20, random_state = 0)"
   ]
  },
  {
   "cell_type": "markdown",
   "id": "649eeb67",
   "metadata": {
    "papermill": {
     "duration": 0.067369,
     "end_time": "2022-02-12T19:48:57.705883",
     "exception": false,
     "start_time": "2022-02-12T19:48:57.638514",
     "status": "completed"
    },
    "tags": []
   },
   "source": [
    "# Training the Naive Bayes model on the Training set"
   ]
  },
  {
   "cell_type": "code",
   "execution_count": 17,
   "id": "139e8871",
   "metadata": {
    "execution": {
     "iopub.execute_input": "2022-02-12T19:48:57.846091Z",
     "iopub.status.busy": "2022-02-12T19:48:57.845328Z",
     "iopub.status.idle": "2022-02-12T19:48:58.041291Z",
     "shell.execute_reply": "2022-02-12T19:48:58.040778Z",
     "shell.execute_reply.started": "2022-02-12T19:46:12.487308Z"
    },
    "papermill": {
     "duration": 0.267997,
     "end_time": "2022-02-12T19:48:58.041457",
     "exception": false,
     "start_time": "2022-02-12T19:48:57.773460",
     "status": "completed"
    },
    "tags": []
   },
   "outputs": [
    {
     "data": {
      "text/plain": [
       "GaussianNB()"
      ]
     },
     "execution_count": 17,
     "metadata": {},
     "output_type": "execute_result"
    }
   ],
   "source": [
    "from sklearn.naive_bayes import GaussianNB\n",
    "classifier = GaussianNB()\n",
    "classifier.fit(X_train, y_train)"
   ]
  },
  {
   "cell_type": "code",
   "execution_count": 18,
   "id": "fb77e077",
   "metadata": {
    "execution": {
     "iopub.execute_input": "2022-02-12T19:48:58.184605Z",
     "iopub.status.busy": "2022-02-12T19:48:58.183899Z",
     "iopub.status.idle": "2022-02-12T19:48:58.224663Z",
     "shell.execute_reply": "2022-02-12T19:48:58.224019Z",
     "shell.execute_reply.started": "2022-02-12T19:46:12.617006Z"
    },
    "papermill": {
     "duration": 0.114281,
     "end_time": "2022-02-12T19:48:58.224816",
     "exception": false,
     "start_time": "2022-02-12T19:48:58.110535",
     "status": "completed"
    },
    "tags": []
   },
   "outputs": [],
   "source": [
    "y_pred = classifier.predict(X_test)"
   ]
  },
  {
   "cell_type": "markdown",
   "id": "17ad52b5",
   "metadata": {
    "papermill": {
     "duration": 0.068813,
     "end_time": "2022-02-12T19:48:58.362171",
     "exception": false,
     "start_time": "2022-02-12T19:48:58.293358",
     "status": "completed"
    },
    "tags": []
   },
   "source": [
    "# Confusion matrix"
   ]
  },
  {
   "cell_type": "code",
   "execution_count": 19,
   "id": "9ac583a3",
   "metadata": {
    "execution": {
     "iopub.execute_input": "2022-02-12T19:48:58.504096Z",
     "iopub.status.busy": "2022-02-12T19:48:58.503368Z",
     "iopub.status.idle": "2022-02-12T19:48:58.510021Z",
     "shell.execute_reply": "2022-02-12T19:48:58.510734Z",
     "shell.execute_reply.started": "2022-02-12T19:46:12.655555Z"
    },
    "papermill": {
     "duration": 0.080161,
     "end_time": "2022-02-12T19:48:58.510962",
     "exception": false,
     "start_time": "2022-02-12T19:48:58.430801",
     "status": "completed"
    },
    "tags": []
   },
   "outputs": [
    {
     "name": "stdout",
     "output_type": "stream",
     "text": [
      "[[142  25  25]\n",
      " [289 211 143]\n",
      " [169  27 138]]\n"
     ]
    }
   ],
   "source": [
    "from sklearn.metrics import confusion_matrix, accuracy_score\n",
    "cm = confusion_matrix(y_test, y_pred)\n",
    "print(cm)"
   ]
  },
  {
   "cell_type": "code",
   "execution_count": 20,
   "id": "eff835f6",
   "metadata": {
    "execution": {
     "iopub.execute_input": "2022-02-12T19:48:58.667095Z",
     "iopub.status.busy": "2022-02-12T19:48:58.666414Z",
     "iopub.status.idle": "2022-02-12T19:48:58.879339Z",
     "shell.execute_reply": "2022-02-12T19:48:58.879854Z",
     "shell.execute_reply.started": "2022-02-12T19:46:12.666167Z"
    },
    "papermill": {
     "duration": 0.300215,
     "end_time": "2022-02-12T19:48:58.880040",
     "exception": false,
     "start_time": "2022-02-12T19:48:58.579825",
     "status": "completed"
    },
    "tags": []
   },
   "outputs": [
    {
     "data": {
      "image/png": "[encoded data removed]",
      "text/plain": [
       "<Figure size 432x288 with 2 Axes>"
      ]
     },
     "metadata": {
      "needs_background": "light"
     },
     "output_type": "display_data"
    }
   ],
   "source": [
    "sns.heatmap(cm,annot =True)\n",
    "plt.show()"
   ]
  },
  {
   "cell_type": "code",
   "execution_count": 21,
   "id": "475112ed",
   "metadata": {
    "execution": {
     "iopub.execute_input": "2022-02-12T19:48:59.021970Z",
     "iopub.status.busy": "2022-02-12T19:48:59.021259Z",
     "iopub.status.idle": "2022-02-12T19:48:59.024811Z",
     "shell.execute_reply": "2022-02-12T19:48:59.025312Z",
     "shell.execute_reply.started": "2022-02-12T19:46:12.948097Z"
    },
    "papermill": {
     "duration": 0.075988,
     "end_time": "2022-02-12T19:48:59.025514",
     "exception": false,
     "start_time": "2022-02-12T19:48:58.949526",
     "status": "completed"
    },
    "tags": []
   },
   "outputs": [],
   "source": [
    "acc1 = accuracy_score(y_test, y_pred)"
   ]
  },
  {
   "cell_type": "code",
   "execution_count": 22,
   "id": "7b46ea4c",
   "metadata": {
    "execution": {
     "iopub.execute_input": "2022-02-12T19:48:59.169134Z",
     "iopub.status.busy": "2022-02-12T19:48:59.168401Z",
     "iopub.status.idle": "2022-02-12T19:48:59.173882Z",
     "shell.execute_reply": "2022-02-12T19:48:59.173316Z",
     "shell.execute_reply.started": "2022-02-12T19:46:12.955800Z"
    },
    "papermill": {
     "duration": 0.078816,
     "end_time": "2022-02-12T19:48:59.174029",
     "exception": false,
     "start_time": "2022-02-12T19:48:59.095213",
     "status": "completed"
    },
    "tags": []
   },
   "outputs": [
    {
     "name": "stdout",
     "output_type": "stream",
     "text": [
      "Accuracy of Naive Bayes (Using Bag of words technique): 0.42001710863986313\n"
     ]
    }
   ],
   "source": [
    "print(f\"Accuracy of Naive Bayes (Using Bag of words technique): {acc1}\")"
   ]
  },
  {
   "cell_type": "markdown",
   "id": "7c909175",
   "metadata": {
    "papermill": {
     "duration": 0.069798,
     "end_time": "2022-02-12T19:48:59.313477",
     "exception": false,
     "start_time": "2022-02-12T19:48:59.243679",
     "status": "completed"
    },
    "tags": []
   },
   "source": [
    "# Using TF - IDF Method."
   ]
  },
  {
   "cell_type": "code",
   "execution_count": 23,
   "id": "ebc56e58",
   "metadata": {
    "execution": {
     "iopub.execute_input": "2022-02-12T19:48:59.473179Z",
     "iopub.status.busy": "2022-02-12T19:48:59.467909Z",
     "iopub.status.idle": "2022-02-12T19:49:00.474496Z",
     "shell.execute_reply": "2022-02-12T19:49:00.473893Z",
     "shell.execute_reply.started": "2022-02-12T19:46:12.968720Z"
    },
    "papermill": {
     "duration": 1.090039,
     "end_time": "2022-02-12T19:49:00.474646",
     "exception": false,
     "start_time": "2022-02-12T19:48:59.384607",
     "status": "completed"
    },
    "tags": []
   },
   "outputs": [],
   "source": [
    "from sklearn.feature_extraction.text import TfidfVectorizer\n",
    "tfidf_v=TfidfVectorizer(max_features=5000,ngram_range=(1,3))\n",
    "X=tfidf_v.fit_transform(corpus).toarray()"
   ]
  },
  {
   "cell_type": "code",
   "execution_count": 24,
   "id": "3979d573",
   "metadata": {
    "execution": {
     "iopub.execute_input": "2022-02-12T19:49:00.620106Z",
     "iopub.status.busy": "2022-02-12T19:49:00.619102Z",
     "iopub.status.idle": "2022-02-12T19:49:00.621453Z",
     "shell.execute_reply": "2022-02-12T19:49:00.622080Z",
     "shell.execute_reply.started": "2022-02-12T19:46:13.672462Z"
    },
    "papermill": {
     "duration": 0.077626,
     "end_time": "2022-02-12T19:49:00.622245",
     "exception": false,
     "start_time": "2022-02-12T19:49:00.544619",
     "status": "completed"
    },
    "tags": []
   },
   "outputs": [],
   "source": [
    "y=data['Sentiment']"
   ]
  },
  {
   "cell_type": "markdown",
   "id": "29269f50",
   "metadata": {
    "papermill": {
     "duration": 0.069127,
     "end_time": "2022-02-12T19:49:00.760897",
     "exception": false,
     "start_time": "2022-02-12T19:49:00.691770",
     "status": "completed"
    },
    "tags": []
   },
   "source": [
    "# Splitting the dataset into the Training set and Test set"
   ]
  },
  {
   "cell_type": "code",
   "execution_count": 25,
   "id": "8b3d0474",
   "metadata": {
    "execution": {
     "iopub.execute_input": "2022-02-12T19:49:00.908806Z",
     "iopub.status.busy": "2022-02-12T19:49:00.908036Z",
     "iopub.status.idle": "2022-02-12T19:49:01.097971Z",
     "shell.execute_reply": "2022-02-12T19:49:01.098536Z",
     "shell.execute_reply.started": "2022-02-12T19:46:13.678095Z"
    },
    "papermill": {
     "duration": 0.266642,
     "end_time": "2022-02-12T19:49:01.098719",
     "exception": false,
     "start_time": "2022-02-12T19:49:00.832077",
     "status": "completed"
    },
    "tags": []
   },
   "outputs": [],
   "source": [
    "from sklearn.model_selection import train_test_split\n",
    "X1_train, X1_test, y1_train, y1_test = train_test_split(X, y, test_size = 0.25, random_state = 0)"
   ]
  },
  {
   "cell_type": "code",
   "execution_count": 26,
   "id": "4df03692",
   "metadata": {
    "execution": {
     "iopub.execute_input": "2022-02-12T19:49:01.244685Z",
     "iopub.status.busy": "2022-02-12T19:49:01.244021Z",
     "iopub.status.idle": "2022-02-12T19:49:01.249595Z",
     "shell.execute_reply": "2022-02-12T19:49:01.250198Z",
     "shell.execute_reply.started": "2022-02-12T19:46:13.808237Z"
    },
    "papermill": {
     "duration": 0.079136,
     "end_time": "2022-02-12T19:49:01.250376",
     "exception": false,
     "start_time": "2022-02-12T19:49:01.171240",
     "status": "completed"
    },
    "tags": []
   },
   "outputs": [
    {
     "name": "stdout",
     "output_type": "stream",
     "text": [
      "(4381, 5000)\n",
      "(1461, 5000)\n",
      "(4381,)\n",
      "(1461,)\n"
     ]
    }
   ],
   "source": [
    "print(X1_train.shape)\n",
    "print(X1_test.shape)\n",
    "print(y1_train.shape)\n",
    "print(y1_test.shape)"
   ]
  },
  {
   "cell_type": "code",
   "execution_count": 27,
   "id": "a50293db",
   "metadata": {
    "execution": {
     "iopub.execute_input": "2022-02-12T19:49:01.405915Z",
     "iopub.status.busy": "2022-02-12T19:49:01.405228Z",
     "iopub.status.idle": "2022-02-12T19:49:01.407489Z",
     "shell.execute_reply": "2022-02-12T19:49:01.408007Z",
     "shell.execute_reply.started": "2022-02-12T19:46:13.814749Z"
    },
    "papermill": {
     "duration": 0.086612,
     "end_time": "2022-02-12T19:49:01.408178",
     "exception": false,
     "start_time": "2022-02-12T19:49:01.321566",
     "status": "completed"
    },
    "tags": []
   },
   "outputs": [],
   "source": [
    "count_df = pd.DataFrame(X1_train, columns=tfidf_v.get_feature_names())"
   ]
  },
  {
   "cell_type": "code",
   "execution_count": 28,
   "id": "50c08df6",
   "metadata": {
    "execution": {
     "iopub.execute_input": "2022-02-12T19:49:01.552739Z",
     "iopub.status.busy": "2022-02-12T19:49:01.552031Z",
     "iopub.status.idle": "2022-02-12T19:49:01.597970Z",
     "shell.execute_reply": "2022-02-12T19:49:01.598540Z",
     "shell.execute_reply.started": "2022-02-12T19:46:13.836450Z"
    },
    "papermill": {
     "duration": 0.120571,
     "end_time": "2022-02-12T19:49:01.598819",
     "exception": false,
     "start_time": "2022-02-12T19:49:01.478248",
     "status": "completed"
    },
    "tags": []
   },
   "outputs": [
    {
     "data": {
      "text/html": [
       "<div>\n",
       "<style scoped>\n",
       "    .dataframe tbody tr th:only-of-type {\n",
       "        vertical-align: middle;\n",
       "    }\n",
       "\n",
       "    .dataframe tbody tr th {\n",
       "        vertical-align: top;\n",
       "    }\n",
       "\n",
       "    .dataframe thead th {\n",
       "        text-align: right;\n",
       "    }\n",
       "</style>\n",
       "<table border=\"1\" class=\"dataframe\">\n",
       "  <thead>\n",
       "    <tr style=\"text-align: right;\">\n",
       "      <th></th>\n",
       "      <th>aapl</th>\n",
       "      <th>aapl http</th>\n",
       "      <th>aapl http co</th>\n",
       "      <th>ab</th>\n",
       "      <th>ab inbev</th>\n",
       "      <th>ab sto</th>\n",
       "      <th>abb</th>\n",
       "      <th>abl</th>\n",
       "      <th>abp</th>\n",
       "      <th>abp hel</th>\n",
       "      <th>...</th>\n",
       "      <th>yhoo</th>\n",
       "      <th>yhtyma</th>\n",
       "      <th>yhtyma oyj</th>\n",
       "      <th>yhtyma oyj hel</th>\n",
       "      <th>yit</th>\n",
       "      <th>yit corpor</th>\n",
       "      <th>york</th>\n",
       "      <th>zinc</th>\n",
       "      <th>znga</th>\n",
       "      <th>zone</th>\n",
       "    </tr>\n",
       "  </thead>\n",
       "  <tbody>\n",
       "    <tr>\n",
       "      <th>0</th>\n",
       "      <td>0.0</td>\n",
       "      <td>0.0</td>\n",
       "      <td>0.0</td>\n",
       "      <td>0.0</td>\n",
       "      <td>0.0</td>\n",
       "      <td>0.0</td>\n",
       "      <td>0.0</td>\n",
       "      <td>0.0</td>\n",
       "      <td>0.0</td>\n",
       "      <td>0.0</td>\n",
       "      <td>...</td>\n",
       "      <td>0.0</td>\n",
       "      <td>0.0</td>\n",
       "      <td>0.0</td>\n",
       "      <td>0.0</td>\n",
       "      <td>0.0</td>\n",
       "      <td>0.0</td>\n",
       "      <td>0.0</td>\n",
       "      <td>0.0</td>\n",
       "      <td>0.0</td>\n",
       "      <td>0.0</td>\n",
       "    </tr>\n",
       "    <tr>\n",
       "      <th>1</th>\n",
       "      <td>0.0</td>\n",
       "      <td>0.0</td>\n",
       "      <td>0.0</td>\n",
       "      <td>0.0</td>\n",
       "      <td>0.0</td>\n",
       "      <td>0.0</td>\n",
       "      <td>0.0</td>\n",
       "      <td>0.0</td>\n",
       "      <td>0.0</td>\n",
       "      <td>0.0</td>\n",
       "      <td>...</td>\n",
       "      <td>0.0</td>\n",
       "      <td>0.0</td>\n",
       "      <td>0.0</td>\n",
       "      <td>0.0</td>\n",
       "      <td>0.0</td>\n",
       "      <td>0.0</td>\n",
       "      <td>0.0</td>\n",
       "      <td>0.0</td>\n",
       "      <td>0.0</td>\n",
       "      <td>0.0</td>\n",
       "    </tr>\n",
       "    <tr>\n",
       "      <th>2</th>\n",
       "      <td>0.0</td>\n",
       "      <td>0.0</td>\n",
       "      <td>0.0</td>\n",
       "      <td>0.0</td>\n",
       "      <td>0.0</td>\n",
       "      <td>0.0</td>\n",
       "      <td>0.0</td>\n",
       "      <td>0.0</td>\n",
       "      <td>0.0</td>\n",
       "      <td>0.0</td>\n",
       "      <td>...</td>\n",
       "      <td>0.0</td>\n",
       "      <td>0.0</td>\n",
       "      <td>0.0</td>\n",
       "      <td>0.0</td>\n",
       "      <td>0.0</td>\n",
       "      <td>0.0</td>\n",
       "      <td>0.0</td>\n",
       "      <td>0.0</td>\n",
       "      <td>0.0</td>\n",
       "      <td>0.0</td>\n",
       "    </tr>\n",
       "    <tr>\n",
       "      <th>3</th>\n",
       "      <td>0.0</td>\n",
       "      <td>0.0</td>\n",
       "      <td>0.0</td>\n",
       "      <td>0.0</td>\n",
       "      <td>0.0</td>\n",
       "      <td>0.0</td>\n",
       "      <td>0.0</td>\n",
       "      <td>0.0</td>\n",
       "      <td>0.0</td>\n",
       "      <td>0.0</td>\n",
       "      <td>...</td>\n",
       "      <td>0.0</td>\n",
       "      <td>0.0</td>\n",
       "      <td>0.0</td>\n",
       "      <td>0.0</td>\n",
       "      <td>0.0</td>\n",
       "      <td>0.0</td>\n",
       "      <td>0.0</td>\n",
       "      <td>0.0</td>\n",
       "      <td>0.0</td>\n",
       "      <td>0.0</td>\n",
       "    </tr>\n",
       "    <tr>\n",
       "      <th>4</th>\n",
       "      <td>0.0</td>\n",
       "      <td>0.0</td>\n",
       "      <td>0.0</td>\n",
       "      <td>0.0</td>\n",
       "      <td>0.0</td>\n",
       "      <td>0.0</td>\n",
       "      <td>0.0</td>\n",
       "      <td>0.0</td>\n",
       "      <td>0.0</td>\n",
       "      <td>0.0</td>\n",
       "      <td>...</td>\n",
       "      <td>0.0</td>\n",
       "      <td>0.0</td>\n",
       "      <td>0.0</td>\n",
       "      <td>0.0</td>\n",
       "      <td>0.0</td>\n",
       "      <td>0.0</td>\n",
       "      <td>0.0</td>\n",
       "      <td>0.0</td>\n",
       "      <td>0.0</td>\n",
       "      <td>0.0</td>\n",
       "    </tr>\n",
       "    <tr>\n",
       "      <th>...</th>\n",
       "      <td>...</td>\n",
       "      <td>...</td>\n",
       "      <td>...</td>\n",
       "      <td>...</td>\n",
       "      <td>...</td>\n",
       "      <td>...</td>\n",
       "      <td>...</td>\n",
       "      <td>...</td>\n",
       "      <td>...</td>\n",
       "      <td>...</td>\n",
       "      <td>...</td>\n",
       "      <td>...</td>\n",
       "      <td>...</td>\n",
       "      <td>...</td>\n",
       "      <td>...</td>\n",
       "      <td>...</td>\n",
       "      <td>...</td>\n",
       "      <td>...</td>\n",
       "      <td>...</td>\n",
       "      <td>...</td>\n",
       "      <td>...</td>\n",
       "    </tr>\n",
       "    <tr>\n",
       "      <th>4376</th>\n",
       "      <td>0.0</td>\n",
       "      <td>0.0</td>\n",
       "      <td>0.0</td>\n",
       "      <td>0.0</td>\n",
       "      <td>0.0</td>\n",
       "      <td>0.0</td>\n",
       "      <td>0.0</td>\n",
       "      <td>0.0</td>\n",
       "      <td>0.0</td>\n",
       "      <td>0.0</td>\n",
       "      <td>...</td>\n",
       "      <td>0.0</td>\n",
       "      <td>0.0</td>\n",
       "      <td>0.0</td>\n",
       "      <td>0.0</td>\n",
       "      <td>0.0</td>\n",
       "      <td>0.0</td>\n",
       "      <td>0.0</td>\n",
       "      <td>0.0</td>\n",
       "      <td>0.0</td>\n",
       "      <td>0.0</td>\n",
       "    </tr>\n",
       "    <tr>\n",
       "      <th>4377</th>\n",
       "      <td>0.0</td>\n",
       "      <td>0.0</td>\n",
       "      <td>0.0</td>\n",
       "      <td>0.0</td>\n",
       "      <td>0.0</td>\n",
       "      <td>0.0</td>\n",
       "      <td>0.0</td>\n",
       "      <td>0.0</td>\n",
       "      <td>0.0</td>\n",
       "      <td>0.0</td>\n",
       "      <td>...</td>\n",
       "      <td>0.0</td>\n",
       "      <td>0.0</td>\n",
       "      <td>0.0</td>\n",
       "      <td>0.0</td>\n",
       "      <td>0.0</td>\n",
       "      <td>0.0</td>\n",
       "      <td>0.0</td>\n",
       "      <td>0.0</td>\n",
       "      <td>0.0</td>\n",
       "      <td>0.0</td>\n",
       "    </tr>\n",
       "    <tr>\n",
       "      <th>4378</th>\n",
       "      <td>0.0</td>\n",
       "      <td>0.0</td>\n",
       "      <td>0.0</td>\n",
       "      <td>0.0</td>\n",
       "      <td>0.0</td>\n",
       "      <td>0.0</td>\n",
       "      <td>0.0</td>\n",
       "      <td>0.0</td>\n",
       "      <td>0.0</td>\n",
       "      <td>0.0</td>\n",
       "      <td>...</td>\n",
       "      <td>0.0</td>\n",
       "      <td>0.0</td>\n",
       "      <td>0.0</td>\n",
       "      <td>0.0</td>\n",
       "      <td>0.0</td>\n",
       "      <td>0.0</td>\n",
       "      <td>0.0</td>\n",
       "      <td>0.0</td>\n",
       "      <td>0.0</td>\n",
       "      <td>0.0</td>\n",
       "    </tr>\n",
       "    <tr>\n",
       "      <th>4379</th>\n",
       "      <td>0.0</td>\n",
       "      <td>0.0</td>\n",
       "      <td>0.0</td>\n",
       "      <td>0.0</td>\n",
       "      <td>0.0</td>\n",
       "      <td>0.0</td>\n",
       "      <td>0.0</td>\n",
       "      <td>0.0</td>\n",
       "      <td>0.0</td>\n",
       "      <td>0.0</td>\n",
       "      <td>...</td>\n",
       "      <td>0.0</td>\n",
       "      <td>0.0</td>\n",
       "      <td>0.0</td>\n",
       "      <td>0.0</td>\n",
       "      <td>0.0</td>\n",
       "      <td>0.0</td>\n",
       "      <td>0.0</td>\n",
       "      <td>0.0</td>\n",
       "      <td>0.0</td>\n",
       "      <td>0.0</td>\n",
       "    </tr>\n",
       "    <tr>\n",
       "      <th>4380</th>\n",
       "      <td>0.0</td>\n",
       "      <td>0.0</td>\n",
       "      <td>0.0</td>\n",
       "      <td>0.0</td>\n",
       "      <td>0.0</td>\n",
       "      <td>0.0</td>\n",
       "      <td>0.0</td>\n",
       "      <td>0.0</td>\n",
       "      <td>0.0</td>\n",
       "      <td>0.0</td>\n",
       "      <td>...</td>\n",
       "      <td>0.0</td>\n",
       "      <td>0.0</td>\n",
       "      <td>0.0</td>\n",
       "      <td>0.0</td>\n",
       "      <td>0.0</td>\n",
       "      <td>0.0</td>\n",
       "      <td>0.0</td>\n",
       "      <td>0.0</td>\n",
       "      <td>0.0</td>\n",
       "      <td>0.0</td>\n",
       "    </tr>\n",
       "  </tbody>\n",
       "</table>\n",
       "<p>4381 rows × 5000 columns</p>\n",
       "</div>"
      ],
      "text/plain": [
       "      aapl  aapl http  aapl http co   ab  ab inbev  ab sto  abb  abl  abp  \\\n",
       "0      0.0        0.0           0.0  0.0       0.0     0.0  0.0  0.0  0.0   \n",
       "1      0.0        0.0           0.0  0.0       0.0     0.0  0.0  0.0  0.0   \n",
       "2      0.0        0.0           0.0  0.0       0.0     0.0  0.0  0.0  0.0   \n",
       "3      0.0        0.0           0.0  0.0       0.0     0.0  0.0  0.0  0.0   \n",
       "4      0.0        0.0           0.0  0.0       0.0     0.0  0.0  0.0  0.0   \n",
       "...    ...        ...           ...  ...       ...     ...  ...  ...  ...   \n",
       "4376   0.0        0.0           0.0  0.0       0.0     0.0  0.0  0.0  0.0   \n",
       "4377   0.0        0.0           0.0  0.0       0.0     0.0  0.0  0.0  0.0   \n",
       "4378   0.0        0.0           0.0  0.0       0.0     0.0  0.0  0.0  0.0   \n",
       "4379   0.0        0.0           0.0  0.0       0.0     0.0  0.0  0.0  0.0   \n",
       "4380   0.0        0.0           0.0  0.0       0.0     0.0  0.0  0.0  0.0   \n",
       "\n",
       "      abp hel  ...  yhoo  yhtyma  yhtyma oyj  yhtyma oyj hel  yit  yit corpor  \\\n",
       "0         0.0  ...   0.0     0.0         0.0             0.0  0.0         0.0   \n",
       "1         0.0  ...   0.0     0.0         0.0             0.0  0.0         0.0   \n",
       "2         0.0  ...   0.0     0.0         0.0             0.0  0.0         0.0   \n",
       "3         0.0  ...   0.0     0.0         0.0             0.0  0.0         0.0   \n",
       "4         0.0  ...   0.0     0.0         0.0             0.0  0.0         0.0   \n",
       "...       ...  ...   ...     ...         ...             ...  ...         ...   \n",
       "4376      0.0  ...   0.0     0.0         0.0             0.0  0.0         0.0   \n",
       "4377      0.0  ...   0.0     0.0         0.0             0.0  0.0         0.0   \n",
       "4378      0.0  ...   0.0     0.0         0.0             0.0  0.0         0.0   \n",
       "4379      0.0  ...   0.0     0.0         0.0             0.0  0.0         0.0   \n",
       "4380      0.0  ...   0.0     0.0         0.0             0.0  0.0         0.0   \n",
       "\n",
       "      york  zinc  znga  zone  \n",
       "0      0.0   0.0   0.0   0.0  \n",
       "1      0.0   0.0   0.0   0.0  \n",
       "2      0.0   0.0   0.0   0.0  \n",
       "3      0.0   0.0   0.0   0.0  \n",
       "4      0.0   0.0   0.0   0.0  \n",
       "...    ...   ...   ...   ...  \n",
       "4376   0.0   0.0   0.0   0.0  \n",
       "4377   0.0   0.0   0.0   0.0  \n",
       "4378   0.0   0.0   0.0   0.0  \n",
       "4379   0.0   0.0   0.0   0.0  \n",
       "4380   0.0   0.0   0.0   0.0  \n",
       "\n",
       "[4381 rows x 5000 columns]"
      ]
     },
     "execution_count": 28,
     "metadata": {},
     "output_type": "execute_result"
    }
   ],
   "source": [
    "count_df"
   ]
  },
  {
   "cell_type": "markdown",
   "id": "e8be1b7a",
   "metadata": {
    "papermill": {
     "duration": 0.070699,
     "end_time": "2022-02-12T19:49:01.742736",
     "exception": false,
     "start_time": "2022-02-12T19:49:01.672037",
     "status": "completed"
    },
    "tags": []
   },
   "source": [
    "# Naive Bayes (in TF - IDF)"
   ]
  },
  {
   "cell_type": "code",
   "execution_count": 29,
   "id": "b143108d",
   "metadata": {
    "execution": {
     "iopub.execute_input": "2022-02-12T19:49:01.889936Z",
     "iopub.status.busy": "2022-02-12T19:49:01.888910Z",
     "iopub.status.idle": "2022-02-12T19:49:02.702837Z",
     "shell.execute_reply": "2022-02-12T19:49:02.702109Z",
     "shell.execute_reply.started": "2022-02-12T19:46:13.887365Z"
    },
    "papermill": {
     "duration": 0.88879,
     "end_time": "2022-02-12T19:49:02.702985",
     "exception": false,
     "start_time": "2022-02-12T19:49:01.814195",
     "status": "completed"
    },
    "tags": []
   },
   "outputs": [],
   "source": [
    "from sklearn.naive_bayes import GaussianNB\n",
    "classifier = GaussianNB()\n",
    "classifier.fit(X1_train, y1_train)\n",
    "GaussianNB()\n",
    "y1_pred = classifier.predict(X1_test)"
   ]
  },
  {
   "cell_type": "code",
   "execution_count": 30,
   "id": "e5d3ef55",
   "metadata": {
    "execution": {
     "iopub.execute_input": "2022-02-12T19:49:02.849038Z",
     "iopub.status.busy": "2022-02-12T19:49:02.848083Z",
     "iopub.status.idle": "2022-02-12T19:49:02.852298Z",
     "shell.execute_reply": "2022-02-12T19:49:02.852848Z",
     "shell.execute_reply.started": "2022-02-12T19:46:14.412054Z"
    },
    "papermill": {
     "duration": 0.07947,
     "end_time": "2022-02-12T19:49:02.853018",
     "exception": false,
     "start_time": "2022-02-12T19:49:02.773548",
     "status": "completed"
    },
    "tags": []
   },
   "outputs": [],
   "source": [
    "acc2 = accuracy_score(y1_test, y1_pred)"
   ]
  },
  {
   "cell_type": "code",
   "execution_count": 31,
   "id": "7b299218",
   "metadata": {
    "execution": {
     "iopub.execute_input": "2022-02-12T19:49:03.001135Z",
     "iopub.status.busy": "2022-02-12T19:49:03.000056Z",
     "iopub.status.idle": "2022-02-12T19:49:03.003531Z",
     "shell.execute_reply": "2022-02-12T19:49:03.004211Z",
     "shell.execute_reply.started": "2022-02-12T19:46:14.417989Z"
    },
    "papermill": {
     "duration": 0.080619,
     "end_time": "2022-02-12T19:49:03.004447",
     "exception": false,
     "start_time": "2022-02-12T19:49:02.923828",
     "status": "completed"
    },
    "tags": []
   },
   "outputs": [
    {
     "name": "stdout",
     "output_type": "stream",
     "text": [
      "Accuracy of Naive Bayes (Using TF - IDF technique): 0.5400410677618069\n"
     ]
    }
   ],
   "source": [
    "print(f\"Accuracy of Naive Bayes (Using TF - IDF technique): {acc2}\")"
   ]
  },
  {
   "cell_type": "markdown",
   "id": "70bbe803",
   "metadata": {
    "papermill": {
     "duration": 0.070542,
     "end_time": "2022-02-12T19:49:03.147557",
     "exception": false,
     "start_time": "2022-02-12T19:49:03.077015",
     "status": "completed"
    },
    "tags": []
   },
   "source": [
    "# MultinomialNB Algorithm"
   ]
  },
  {
   "cell_type": "code",
   "execution_count": 32,
   "id": "55e958e3",
   "metadata": {
    "execution": {
     "iopub.execute_input": "2022-02-12T19:49:03.293950Z",
     "iopub.status.busy": "2022-02-12T19:49:03.292979Z",
     "iopub.status.idle": "2022-02-12T19:49:03.440230Z",
     "shell.execute_reply": "2022-02-12T19:49:03.441199Z",
     "shell.execute_reply.started": "2022-02-12T19:46:14.432636Z"
    },
    "papermill": {
     "duration": 0.222688,
     "end_time": "2022-02-12T19:49:03.441504",
     "exception": false,
     "start_time": "2022-02-12T19:49:03.218816",
     "status": "completed"
    },
    "tags": []
   },
   "outputs": [],
   "source": [
    "from sklearn.naive_bayes import MultinomialNB\n",
    "classifier=MultinomialNB()\n",
    "classifier.fit(X1_train, y1_train)\n",
    "pred = classifier.predict(X1_test)\n",
    "pred = classifier.predict(X1_test)\n",
    "score = accuracy_score(y1_test, pred)"
   ]
  },
  {
   "cell_type": "code",
   "execution_count": 33,
   "id": "dcdbab94",
   "metadata": {
    "execution": {
     "iopub.execute_input": "2022-02-12T19:49:03.643891Z",
     "iopub.status.busy": "2022-02-12T19:49:03.643050Z",
     "iopub.status.idle": "2022-02-12T19:49:03.646378Z",
     "shell.execute_reply": "2022-02-12T19:49:03.646882Z",
     "shell.execute_reply.started": "2022-02-12T19:46:14.542871Z"
    },
    "papermill": {
     "duration": 0.08058,
     "end_time": "2022-02-12T19:49:03.647048",
     "exception": false,
     "start_time": "2022-02-12T19:49:03.566468",
     "status": "completed"
    },
    "tags": []
   },
   "outputs": [
    {
     "data": {
      "text/plain": [
       "0.6721423682409309"
      ]
     },
     "execution_count": 33,
     "metadata": {},
     "output_type": "execute_result"
    }
   ],
   "source": [
    "score"
   ]
  },
  {
   "cell_type": "markdown",
   "id": "65567133",
   "metadata": {
    "papermill": {
     "duration": 0.071498,
     "end_time": "2022-02-12T19:49:03.789854",
     "exception": false,
     "start_time": "2022-02-12T19:49:03.718356",
     "status": "completed"
    },
    "tags": []
   },
   "source": [
    "# Training XGBoost on the Training set"
   ]
  },
  {
   "cell_type": "code",
   "execution_count": 34,
   "id": "a1283879",
   "metadata": {
    "execution": {
     "iopub.execute_input": "2022-02-12T19:49:03.940271Z",
     "iopub.status.busy": "2022-02-12T19:49:03.939589Z",
     "iopub.status.idle": "2022-02-12T19:49:42.746230Z",
     "shell.execute_reply": "2022-02-12T19:49:42.746757Z",
     "shell.execute_reply.started": "2022-02-12T19:46:14.553359Z"
    },
    "papermill": {
     "duration": 38.884187,
     "end_time": "2022-02-12T19:49:42.746929",
     "exception": false,
     "start_time": "2022-02-12T19:49:03.862742",
     "status": "completed"
    },
    "tags": []
   },
   "outputs": [
    {
     "name": "stderr",
     "output_type": "stream",
     "text": [
      "/opt/conda/lib/python3.7/site-packages/xgboost/sklearn.py:1224: UserWarning: The use of label encoder in XGBClassifier is deprecated and will be removed in a future release. To remove this warning, do the following: 1) Pass option use_label_encoder=False when constructing XGBClassifier object; and 2) Encode your labels (y) as integers starting with 0, i.e. 0, 1, 2, ..., [num_class - 1].\n",
      "  warnings.warn(label_encoder_deprecation_msg, UserWarning)\n"
     ]
    },
    {
     "name": "stdout",
     "output_type": "stream",
     "text": [
      "[19:49:04] WARNING: ../src/learner.cc:1115: Starting in XGBoost 1.3.0, the default evaluation metric used with the objective 'multi:softprob' was changed from 'merror' to 'mlogloss'. Explicitly set eval_metric if you'd like to restore the old behavior.\n"
     ]
    },
    {
     "data": {
      "text/plain": [
       "XGBClassifier(base_score=0.5, booster='gbtree', colsample_bylevel=1,\n",
       "              colsample_bynode=1, colsample_bytree=1, enable_categorical=False,\n",
       "              gamma=0, gpu_id=-1, importance_type=None,\n",
       "              interaction_constraints='', learning_rate=0.300000012,\n",
       "              max_delta_step=0, max_depth=6, min_child_weight=1, missing=nan,\n",
       "              monotone_constraints='()', n_estimators=100, n_jobs=4,\n",
       "              num_parallel_tree=1, objective='multi:softprob', predictor='auto',\n",
       "              random_state=0, reg_alpha=0, reg_lambda=1, scale_pos_weight=None,\n",
       "              subsample=1, tree_method='exact', validate_parameters=1,\n",
       "              verbosity=None)"
      ]
     },
     "execution_count": 34,
     "metadata": {},
     "output_type": "execute_result"
    }
   ],
   "source": [
    "from xgboost import XGBClassifier\n",
    "classifier = XGBClassifier()\n",
    "classifier.fit(X_train, y_train)"
   ]
  },
  {
   "cell_type": "code",
   "execution_count": 35,
   "id": "e06d13c6",
   "metadata": {
    "execution": {
     "iopub.execute_input": "2022-02-12T19:49:42.897105Z",
     "iopub.status.busy": "2022-02-12T19:49:42.896013Z",
     "iopub.status.idle": "2022-02-12T19:49:42.933040Z",
     "shell.execute_reply": "2022-02-12T19:49:42.934146Z",
     "shell.execute_reply.started": "2022-02-12T19:46:51.659692Z"
    },
    "papermill": {
     "duration": 0.1147,
     "end_time": "2022-02-12T19:49:42.934527",
     "exception": false,
     "start_time": "2022-02-12T19:49:42.819827",
     "status": "completed"
    },
    "tags": []
   },
   "outputs": [
    {
     "name": "stdout",
     "output_type": "stream",
     "text": [
      "[[ 30 130  32]\n",
      " [ 51 550  42]\n",
      " [ 10 110 214]]\n"
     ]
    }
   ],
   "source": [
    "from sklearn.metrics import confusion_matrix, accuracy_score\n",
    "y_pred = classifier.predict(X_test)\n",
    "cm = confusion_matrix(y_test, y_pred)\n",
    "print(cm)"
   ]
  },
  {
   "cell_type": "code",
   "execution_count": 36,
   "id": "a96f8994",
   "metadata": {
    "execution": {
     "iopub.execute_input": "2022-02-12T19:49:43.090640Z",
     "iopub.status.busy": "2022-02-12T19:49:43.088105Z",
     "iopub.status.idle": "2022-02-12T19:49:43.265318Z",
     "shell.execute_reply": "2022-02-12T19:49:43.265847Z",
     "shell.execute_reply.started": "2022-02-12T19:46:51.692211Z"
    },
    "papermill": {
     "duration": 0.255004,
     "end_time": "2022-02-12T19:49:43.266031",
     "exception": false,
     "start_time": "2022-02-12T19:49:43.011027",
     "status": "completed"
    },
    "tags": []
   },
   "outputs": [
    {
     "data": {
      "image/png": "[encoded data removed]",
      "text/plain": [
       "<Figure size 432x288 with 2 Axes>"
      ]
     },
     "metadata": {
      "needs_background": "light"
     },
     "output_type": "display_data"
    }
   ],
   "source": [
    "sns.heatmap(cm,annot=True)\n",
    "plt.show()"
   ]
  },
  {
   "cell_type": "code",
   "execution_count": 37,
   "id": "a52a3294",
   "metadata": {
    "execution": {
     "iopub.execute_input": "2022-02-12T19:49:43.418249Z",
     "iopub.status.busy": "2022-02-12T19:49:43.417263Z",
     "iopub.status.idle": "2022-02-12T19:49:43.423683Z",
     "shell.execute_reply": "2022-02-12T19:49:43.423146Z",
     "shell.execute_reply.started": "2022-02-12T19:46:51.973009Z"
    },
    "papermill": {
     "duration": 0.083816,
     "end_time": "2022-02-12T19:49:43.423831",
     "exception": false,
     "start_time": "2022-02-12T19:49:43.340015",
     "status": "completed"
    },
    "tags": []
   },
   "outputs": [
    {
     "name": "stdout",
     "output_type": "stream",
     "text": [
      "0.679213002566296\n"
     ]
    }
   ],
   "source": [
    "acc3 = accuracy_score(y_test, y_pred)\n",
    "print(acc3)"
   ]
  },
  {
   "cell_type": "markdown",
   "id": "1e8de23a",
   "metadata": {
    "papermill": {
     "duration": 0.074276,
     "end_time": "2022-02-12T19:49:43.572907",
     "exception": false,
     "start_time": "2022-02-12T19:49:43.498631",
     "status": "completed"
    },
    "tags": []
   },
   "source": [
    "# Training CatBoost on the Training set"
   ]
  },
  {
   "cell_type": "code",
   "execution_count": 38,
   "id": "fc9626eb",
   "metadata": {
    "execution": {
     "iopub.execute_input": "2022-02-12T19:49:43.729206Z",
     "iopub.status.busy": "2022-02-12T19:49:43.728552Z",
     "iopub.status.idle": "2022-02-12T19:49:58.426835Z",
     "shell.execute_reply": "2022-02-12T19:49:58.425965Z",
     "shell.execute_reply.started": "2022-02-12T19:46:51.980335Z"
    },
    "papermill": {
     "duration": 14.779281,
     "end_time": "2022-02-12T19:49:58.427023",
     "exception": false,
     "start_time": "2022-02-12T19:49:43.647742",
     "status": "completed"
    },
    "tags": []
   },
   "outputs": [
    {
     "name": "stdout",
     "output_type": "stream",
     "text": [
      "Learning rate set to 0.0856\n",
      "0:\tlearn: 1.0744115\ttotal: 64.4ms\tremaining: 1m 4s\n",
      "1:\tlearn: 1.0542612\ttotal: 74.7ms\tremaining: 37.3s\n",
      "2:\tlearn: 1.0334723\ttotal: 85.6ms\tremaining: 28.4s\n",
      "3:\tlearn: 1.0197677\ttotal: 96.2ms\tremaining: 24s\n",
      "4:\tlearn: 1.0055921\ttotal: 107ms\tremaining: 21.2s\n",
      "5:\tlearn: 0.9939193\ttotal: 117ms\tremaining: 19.4s\n",
      "6:\tlearn: 0.9835225\ttotal: 127ms\tremaining: 18s\n",
      "7:\tlearn: 0.9734878\ttotal: 138ms\tremaining: 17.1s\n",
      "8:\tlearn: 0.9654381\ttotal: 148ms\tremaining: 16.3s\n",
      "9:\tlearn: 0.9573342\ttotal: 158ms\tremaining: 15.6s\n",
      "10:\tlearn: 0.9512071\ttotal: 168ms\tremaining: 15.1s\n",
      "11:\tlearn: 0.9457943\ttotal: 179ms\tremaining: 14.7s\n",
      "12:\tlearn: 0.9388886\ttotal: 192ms\tremaining: 14.6s\n",
      "13:\tlearn: 0.9343741\ttotal: 203ms\tremaining: 14.3s\n",
      "14:\tlearn: 0.9314254\ttotal: 213ms\tremaining: 14s\n",
      "15:\tlearn: 0.9256993\ttotal: 223ms\tremaining: 13.7s\n",
      "16:\tlearn: 0.9215086\ttotal: 234ms\tremaining: 13.5s\n",
      "17:\tlearn: 0.9178308\ttotal: 245ms\tremaining: 13.4s\n",
      "18:\tlearn: 0.9141908\ttotal: 255ms\tremaining: 13.2s\n",
      "19:\tlearn: 0.9092629\ttotal: 266ms\tremaining: 13s\n",
      "20:\tlearn: 0.9054805\ttotal: 276ms\tremaining: 12.9s\n",
      "21:\tlearn: 0.9017007\ttotal: 287ms\tremaining: 12.8s\n",
      "22:\tlearn: 0.8978353\ttotal: 298ms\tremaining: 12.6s\n",
      "23:\tlearn: 0.8946330\ttotal: 308ms\tremaining: 12.5s\n",
      "24:\tlearn: 0.8924796\ttotal: 318ms\tremaining: 12.4s\n",
      "25:\tlearn: 0.8894551\ttotal: 328ms\tremaining: 12.3s\n",
      "26:\tlearn: 0.8873827\ttotal: 339ms\tremaining: 12.2s\n",
      "27:\tlearn: 0.8853453\ttotal: 349ms\tremaining: 12.1s\n",
      "28:\tlearn: 0.8834898\ttotal: 361ms\tremaining: 12.1s\n",
      "29:\tlearn: 0.8812989\ttotal: 373ms\tremaining: 12.1s\n",
      "30:\tlearn: 0.8784263\ttotal: 384ms\tremaining: 12s\n",
      "31:\tlearn: 0.8767752\ttotal: 397ms\tremaining: 12s\n",
      "32:\tlearn: 0.8743005\ttotal: 408ms\tremaining: 12s\n",
      "33:\tlearn: 0.8727343\ttotal: 419ms\tremaining: 11.9s\n",
      "34:\tlearn: 0.8708224\ttotal: 430ms\tremaining: 11.8s\n",
      "35:\tlearn: 0.8695239\ttotal: 440ms\tremaining: 11.8s\n",
      "36:\tlearn: 0.8672671\ttotal: 451ms\tremaining: 11.7s\n",
      "37:\tlearn: 0.8649404\ttotal: 461ms\tremaining: 11.7s\n",
      "38:\tlearn: 0.8633489\ttotal: 472ms\tremaining: 11.6s\n",
      "39:\tlearn: 0.8613420\ttotal: 482ms\tremaining: 11.6s\n",
      "40:\tlearn: 0.8598263\ttotal: 492ms\tremaining: 11.5s\n",
      "41:\tlearn: 0.8581206\ttotal: 503ms\tremaining: 11.5s\n",
      "42:\tlearn: 0.8572121\ttotal: 513ms\tremaining: 11.4s\n",
      "43:\tlearn: 0.8563826\ttotal: 519ms\tremaining: 11.3s\n",
      "44:\tlearn: 0.8553083\ttotal: 530ms\tremaining: 11.2s\n",
      "45:\tlearn: 0.8535798\ttotal: 541ms\tremaining: 11.2s\n",
      "46:\tlearn: 0.8524615\ttotal: 552ms\tremaining: 11.2s\n",
      "47:\tlearn: 0.8506844\ttotal: 563ms\tremaining: 11.2s\n",
      "48:\tlearn: 0.8491991\ttotal: 573ms\tremaining: 11.1s\n",
      "49:\tlearn: 0.8474817\ttotal: 584ms\tremaining: 11.1s\n",
      "50:\tlearn: 0.8461466\ttotal: 595ms\tremaining: 11.1s\n",
      "51:\tlearn: 0.8446758\ttotal: 607ms\tremaining: 11.1s\n",
      "52:\tlearn: 0.8434241\ttotal: 618ms\tremaining: 11s\n",
      "53:\tlearn: 0.8421952\ttotal: 629ms\tremaining: 11s\n",
      "54:\tlearn: 0.8402939\ttotal: 640ms\tremaining: 11s\n",
      "55:\tlearn: 0.8391440\ttotal: 650ms\tremaining: 11s\n",
      "56:\tlearn: 0.8378523\ttotal: 661ms\tremaining: 10.9s\n",
      "57:\tlearn: 0.8364422\ttotal: 672ms\tremaining: 10.9s\n",
      "58:\tlearn: 0.8355545\ttotal: 682ms\tremaining: 10.9s\n",
      "59:\tlearn: 0.8345007\ttotal: 693ms\tremaining: 10.9s\n",
      "60:\tlearn: 0.8331219\ttotal: 704ms\tremaining: 10.8s\n",
      "61:\tlearn: 0.8317900\ttotal: 715ms\tremaining: 10.8s\n",
      "62:\tlearn: 0.8307909\ttotal: 726ms\tremaining: 10.8s\n",
      "63:\tlearn: 0.8297166\ttotal: 737ms\tremaining: 10.8s\n",
      "64:\tlearn: 0.8288624\ttotal: 748ms\tremaining: 10.8s\n",
      "65:\tlearn: 0.8276561\ttotal: 759ms\tremaining: 10.7s\n",
      "66:\tlearn: 0.8262523\ttotal: 771ms\tremaining: 10.7s\n",
      "67:\tlearn: 0.8250600\ttotal: 781ms\tremaining: 10.7s\n",
      "68:\tlearn: 0.8241142\ttotal: 793ms\tremaining: 10.7s\n",
      "69:\tlearn: 0.8232152\ttotal: 806ms\tremaining: 10.7s\n",
      "70:\tlearn: 0.8218920\ttotal: 817ms\tremaining: 10.7s\n",
      "71:\tlearn: 0.8209403\ttotal: 828ms\tremaining: 10.7s\n",
      "72:\tlearn: 0.8204544\ttotal: 838ms\tremaining: 10.6s\n",
      "73:\tlearn: 0.8193236\ttotal: 849ms\tremaining: 10.6s\n",
      "74:\tlearn: 0.8181338\ttotal: 861ms\tremaining: 10.6s\n",
      "75:\tlearn: 0.8173830\ttotal: 872ms\tremaining: 10.6s\n",
      "76:\tlearn: 0.8163959\ttotal: 882ms\tremaining: 10.6s\n",
      "77:\tlearn: 0.8155032\ttotal: 893ms\tremaining: 10.6s\n",
      "78:\tlearn: 0.8145886\ttotal: 903ms\tremaining: 10.5s\n",
      "79:\tlearn: 0.8134839\ttotal: 914ms\tremaining: 10.5s\n",
      "80:\tlearn: 0.8125256\ttotal: 924ms\tremaining: 10.5s\n",
      "81:\tlearn: 0.8114206\ttotal: 935ms\tremaining: 10.5s\n",
      "82:\tlearn: 0.8103808\ttotal: 945ms\tremaining: 10.4s\n",
      "83:\tlearn: 0.8094453\ttotal: 956ms\tremaining: 10.4s\n",
      "84:\tlearn: 0.8079909\ttotal: 967ms\tremaining: 10.4s\n",
      "85:\tlearn: 0.8064222\ttotal: 977ms\tremaining: 10.4s\n",
      "86:\tlearn: 0.8051046\ttotal: 987ms\tremaining: 10.4s\n",
      "87:\tlearn: 0.8035189\ttotal: 1000ms\tremaining: 10.4s\n",
      "88:\tlearn: 0.8023109\ttotal: 1.01s\tremaining: 10.3s\n",
      "89:\tlearn: 0.8007206\ttotal: 1.02s\tremaining: 10.3s\n",
      "90:\tlearn: 0.7998248\ttotal: 1.03s\tremaining: 10.3s\n",
      "91:\tlearn: 0.7983169\ttotal: 1.04s\tremaining: 10.3s\n",
      "92:\tlearn: 0.7970103\ttotal: 1.05s\tremaining: 10.3s\n",
      "93:\tlearn: 0.7961007\ttotal: 1.06s\tremaining: 10.2s\n",
      "94:\tlearn: 0.7953273\ttotal: 1.07s\tremaining: 10.2s\n",
      "95:\tlearn: 0.7941020\ttotal: 1.08s\tremaining: 10.2s\n",
      "96:\tlearn: 0.7934746\ttotal: 1.09s\tremaining: 10.2s\n",
      "97:\tlearn: 0.7926714\ttotal: 1.1s\tremaining: 10.2s\n",
      "98:\tlearn: 0.7913578\ttotal: 1.12s\tremaining: 10.2s\n",
      "99:\tlearn: 0.7904303\ttotal: 1.13s\tremaining: 10.1s\n",
      "100:\tlearn: 0.7895291\ttotal: 1.14s\tremaining: 10.1s\n",
      "101:\tlearn: 0.7886485\ttotal: 1.15s\tremaining: 10.1s\n",
      "102:\tlearn: 0.7870207\ttotal: 1.16s\tremaining: 10.1s\n",
      "103:\tlearn: 0.7860869\ttotal: 1.17s\tremaining: 10.1s\n",
      "104:\tlearn: 0.7851900\ttotal: 1.18s\tremaining: 10.1s\n",
      "105:\tlearn: 0.7842951\ttotal: 1.19s\tremaining: 10s\n",
      "106:\tlearn: 0.7829605\ttotal: 1.2s\tremaining: 10s\n",
      "107:\tlearn: 0.7820542\ttotal: 1.21s\tremaining: 10s\n",
      "108:\tlearn: 0.7809589\ttotal: 1.23s\tremaining: 10s\n",
      "109:\tlearn: 0.7799898\ttotal: 1.24s\tremaining: 10s\n",
      "110:\tlearn: 0.7787791\ttotal: 1.25s\tremaining: 9.98s\n",
      "111:\tlearn: 0.7778022\ttotal: 1.26s\tremaining: 9.97s\n",
      "112:\tlearn: 0.7764917\ttotal: 1.27s\tremaining: 9.95s\n",
      "113:\tlearn: 0.7753665\ttotal: 1.28s\tremaining: 9.94s\n",
      "114:\tlearn: 0.7745146\ttotal: 1.29s\tremaining: 9.92s\n",
      "115:\tlearn: 0.7733604\ttotal: 1.3s\tremaining: 9.9s\n",
      "116:\tlearn: 0.7725902\ttotal: 1.31s\tremaining: 9.88s\n",
      "117:\tlearn: 0.7711769\ttotal: 1.32s\tremaining: 9.86s\n",
      "118:\tlearn: 0.7702461\ttotal: 1.33s\tremaining: 9.85s\n",
      "119:\tlearn: 0.7694982\ttotal: 1.34s\tremaining: 9.84s\n",
      "120:\tlearn: 0.7687810\ttotal: 1.35s\tremaining: 9.82s\n",
      "121:\tlearn: 0.7679423\ttotal: 1.36s\tremaining: 9.81s\n",
      "122:\tlearn: 0.7672348\ttotal: 1.37s\tremaining: 9.8s\n",
      "123:\tlearn: 0.7664715\ttotal: 1.38s\tremaining: 9.78s\n",
      "124:\tlearn: 0.7655987\ttotal: 1.4s\tremaining: 9.77s\n",
      "125:\tlearn: 0.7645724\ttotal: 1.41s\tremaining: 9.76s\n",
      "126:\tlearn: 0.7635389\ttotal: 1.42s\tremaining: 9.74s\n",
      "127:\tlearn: 0.7626567\ttotal: 1.43s\tremaining: 9.73s\n",
      "128:\tlearn: 0.7616407\ttotal: 1.44s\tremaining: 9.71s\n",
      "129:\tlearn: 0.7603464\ttotal: 1.45s\tremaining: 9.7s\n",
      "130:\tlearn: 0.7591229\ttotal: 1.46s\tremaining: 9.68s\n",
      "131:\tlearn: 0.7576926\ttotal: 1.47s\tremaining: 9.67s\n",
      "132:\tlearn: 0.7564654\ttotal: 1.48s\tremaining: 9.65s\n",
      "133:\tlearn: 0.7557313\ttotal: 1.49s\tremaining: 9.64s\n",
      "134:\tlearn: 0.7548865\ttotal: 1.5s\tremaining: 9.62s\n",
      "135:\tlearn: 0.7542006\ttotal: 1.51s\tremaining: 9.61s\n",
      "136:\tlearn: 0.7533815\ttotal: 1.52s\tremaining: 9.6s\n",
      "137:\tlearn: 0.7526273\ttotal: 1.53s\tremaining: 9.58s\n",
      "138:\tlearn: 0.7519630\ttotal: 1.54s\tremaining: 9.57s\n",
      "139:\tlearn: 0.7511904\ttotal: 1.55s\tremaining: 9.55s\n",
      "140:\tlearn: 0.7506376\ttotal: 1.56s\tremaining: 9.54s\n",
      "141:\tlearn: 0.7497149\ttotal: 1.57s\tremaining: 9.52s\n",
      "142:\tlearn: 0.7490040\ttotal: 1.59s\tremaining: 9.51s\n",
      "143:\tlearn: 0.7483151\ttotal: 1.6s\tremaining: 9.49s\n",
      "144:\tlearn: 0.7475265\ttotal: 1.61s\tremaining: 9.48s\n",
      "145:\tlearn: 0.7465604\ttotal: 1.62s\tremaining: 9.47s\n",
      "146:\tlearn: 0.7457917\ttotal: 1.63s\tremaining: 9.46s\n",
      "147:\tlearn: 0.7449834\ttotal: 1.64s\tremaining: 9.45s\n",
      "148:\tlearn: 0.7442840\ttotal: 1.65s\tremaining: 9.43s\n",
      "149:\tlearn: 0.7433768\ttotal: 1.66s\tremaining: 9.41s\n",
      "150:\tlearn: 0.7427659\ttotal: 1.67s\tremaining: 9.4s\n",
      "151:\tlearn: 0.7419866\ttotal: 1.68s\tremaining: 9.38s\n",
      "152:\tlearn: 0.7412053\ttotal: 1.69s\tremaining: 9.37s\n",
      "153:\tlearn: 0.7404875\ttotal: 1.7s\tremaining: 9.35s\n",
      "154:\tlearn: 0.7398182\ttotal: 1.71s\tremaining: 9.33s\n",
      "155:\tlearn: 0.7387917\ttotal: 1.72s\tremaining: 9.32s\n",
      "156:\tlearn: 0.7382646\ttotal: 1.73s\tremaining: 9.3s\n",
      "157:\tlearn: 0.7374122\ttotal: 1.74s\tremaining: 9.29s\n",
      "158:\tlearn: 0.7363875\ttotal: 1.75s\tremaining: 9.28s\n",
      "159:\tlearn: 0.7353941\ttotal: 1.76s\tremaining: 9.26s\n",
      "160:\tlearn: 0.7347834\ttotal: 1.78s\tremaining: 9.26s\n",
      "161:\tlearn: 0.7340942\ttotal: 1.79s\tremaining: 9.25s\n",
      "162:\tlearn: 0.7334236\ttotal: 1.8s\tremaining: 9.23s\n",
      "163:\tlearn: 0.7327624\ttotal: 1.81s\tremaining: 9.23s\n",
      "164:\tlearn: 0.7322066\ttotal: 1.82s\tremaining: 9.21s\n",
      "165:\tlearn: 0.7316483\ttotal: 1.83s\tremaining: 9.2s\n",
      "166:\tlearn: 0.7307681\ttotal: 1.84s\tremaining: 9.19s\n",
      "167:\tlearn: 0.7301171\ttotal: 1.85s\tremaining: 9.18s\n",
      "168:\tlearn: 0.7295027\ttotal: 1.86s\tremaining: 9.16s\n",
      "169:\tlearn: 0.7287176\ttotal: 1.87s\tremaining: 9.15s\n",
      "170:\tlearn: 0.7276224\ttotal: 1.88s\tremaining: 9.14s\n",
      "171:\tlearn: 0.7268852\ttotal: 1.9s\tremaining: 9.12s\n",
      "172:\tlearn: 0.7262469\ttotal: 1.91s\tremaining: 9.11s\n",
      "173:\tlearn: 0.7255178\ttotal: 1.92s\tremaining: 9.1s\n",
      "174:\tlearn: 0.7250726\ttotal: 1.93s\tremaining: 9.09s\n",
      "175:\tlearn: 0.7245894\ttotal: 1.94s\tremaining: 9.08s\n",
      "176:\tlearn: 0.7241033\ttotal: 1.95s\tremaining: 9.06s\n",
      "177:\tlearn: 0.7235160\ttotal: 1.96s\tremaining: 9.05s\n",
      "178:\tlearn: 0.7229350\ttotal: 1.97s\tremaining: 9.04s\n",
      "179:\tlearn: 0.7221385\ttotal: 1.98s\tremaining: 9.03s\n",
      "180:\tlearn: 0.7213992\ttotal: 1.99s\tremaining: 9.02s\n",
      "181:\tlearn: 0.7206756\ttotal: 2s\tremaining: 9.01s\n",
      "182:\tlearn: 0.7200611\ttotal: 2.02s\tremaining: 9.01s\n",
      "183:\tlearn: 0.7193531\ttotal: 2.03s\tremaining: 8.99s\n",
      "184:\tlearn: 0.7186110\ttotal: 2.04s\tremaining: 8.98s\n",
      "185:\tlearn: 0.7182293\ttotal: 2.05s\tremaining: 8.97s\n",
      "186:\tlearn: 0.7177513\ttotal: 2.06s\tremaining: 8.95s\n",
      "187:\tlearn: 0.7173548\ttotal: 2.07s\tremaining: 8.94s\n",
      "188:\tlearn: 0.7166290\ttotal: 2.08s\tremaining: 8.93s\n",
      "189:\tlearn: 0.7160364\ttotal: 2.09s\tremaining: 8.92s\n",
      "190:\tlearn: 0.7153265\ttotal: 2.1s\tremaining: 8.91s\n",
      "191:\tlearn: 0.7149683\ttotal: 2.11s\tremaining: 8.89s\n",
      "192:\tlearn: 0.7144362\ttotal: 2.12s\tremaining: 8.88s\n",
      "193:\tlearn: 0.7139507\ttotal: 2.13s\tremaining: 8.87s\n",
      "194:\tlearn: 0.7134466\ttotal: 2.14s\tremaining: 8.85s\n",
      "195:\tlearn: 0.7128648\ttotal: 2.15s\tremaining: 8.84s\n",
      "196:\tlearn: 0.7124275\ttotal: 2.17s\tremaining: 8.83s\n",
      "197:\tlearn: 0.7118042\ttotal: 2.17s\tremaining: 8.81s\n",
      "198:\tlearn: 0.7114311\ttotal: 2.19s\tremaining: 8.8s\n",
      "199:\tlearn: 0.7108529\ttotal: 2.2s\tremaining: 8.79s\n",
      "200:\tlearn: 0.7104003\ttotal: 2.21s\tremaining: 8.77s\n",
      "201:\tlearn: 0.7095115\ttotal: 2.22s\tremaining: 8.76s\n",
      "202:\tlearn: 0.7087765\ttotal: 2.23s\tremaining: 8.75s\n",
      "203:\tlearn: 0.7083128\ttotal: 2.24s\tremaining: 8.74s\n",
      "204:\tlearn: 0.7078130\ttotal: 2.25s\tremaining: 8.73s\n",
      "205:\tlearn: 0.7071570\ttotal: 2.26s\tremaining: 8.71s\n",
      "206:\tlearn: 0.7067906\ttotal: 2.27s\tremaining: 8.7s\n",
      "207:\tlearn: 0.7063573\ttotal: 2.28s\tremaining: 8.69s\n",
      "208:\tlearn: 0.7057095\ttotal: 2.29s\tremaining: 8.67s\n",
      "209:\tlearn: 0.7052031\ttotal: 2.3s\tremaining: 8.66s\n",
      "210:\tlearn: 0.7046918\ttotal: 2.31s\tremaining: 8.65s\n",
      "211:\tlearn: 0.7042456\ttotal: 2.32s\tremaining: 8.63s\n",
      "212:\tlearn: 0.7036575\ttotal: 2.33s\tremaining: 8.62s\n",
      "213:\tlearn: 0.7032103\ttotal: 2.34s\tremaining: 8.6s\n",
      "214:\tlearn: 0.7028794\ttotal: 2.35s\tremaining: 8.59s\n",
      "215:\tlearn: 0.7023626\ttotal: 2.36s\tremaining: 8.58s\n",
      "216:\tlearn: 0.7019195\ttotal: 2.37s\tremaining: 8.56s\n",
      "217:\tlearn: 0.7013468\ttotal: 2.38s\tremaining: 8.55s\n",
      "218:\tlearn: 0.7007010\ttotal: 2.39s\tremaining: 8.54s\n",
      "219:\tlearn: 0.7002894\ttotal: 2.4s\tremaining: 8.53s\n",
      "220:\tlearn: 0.6999008\ttotal: 2.42s\tremaining: 8.51s\n",
      "221:\tlearn: 0.6994350\ttotal: 2.43s\tremaining: 8.51s\n",
      "222:\tlearn: 0.6990325\ttotal: 2.44s\tremaining: 8.5s\n",
      "223:\tlearn: 0.6985116\ttotal: 2.45s\tremaining: 8.49s\n",
      "224:\tlearn: 0.6979796\ttotal: 2.46s\tremaining: 8.48s\n",
      "225:\tlearn: 0.6975243\ttotal: 2.47s\tremaining: 8.46s\n",
      "226:\tlearn: 0.6969515\ttotal: 2.48s\tremaining: 8.45s\n",
      "227:\tlearn: 0.6963525\ttotal: 2.49s\tremaining: 8.44s\n",
      "228:\tlearn: 0.6959069\ttotal: 2.5s\tremaining: 8.43s\n",
      "229:\tlearn: 0.6955064\ttotal: 2.51s\tremaining: 8.41s\n",
      "230:\tlearn: 0.6951104\ttotal: 2.52s\tremaining: 8.4s\n",
      "231:\tlearn: 0.6946538\ttotal: 2.53s\tremaining: 8.39s\n",
      "232:\tlearn: 0.6941440\ttotal: 2.54s\tremaining: 8.38s\n",
      "233:\tlearn: 0.6935747\ttotal: 2.56s\tremaining: 8.37s\n",
      "234:\tlearn: 0.6930329\ttotal: 2.56s\tremaining: 8.35s\n",
      "235:\tlearn: 0.6925648\ttotal: 2.58s\tremaining: 8.34s\n",
      "236:\tlearn: 0.6920475\ttotal: 2.59s\tremaining: 8.33s\n",
      "237:\tlearn: 0.6916483\ttotal: 2.6s\tremaining: 8.32s\n",
      "238:\tlearn: 0.6910834\ttotal: 2.61s\tremaining: 8.3s\n",
      "239:\tlearn: 0.6902514\ttotal: 2.62s\tremaining: 8.3s\n",
      "240:\tlearn: 0.6898297\ttotal: 2.63s\tremaining: 8.29s\n",
      "241:\tlearn: 0.6894788\ttotal: 2.64s\tremaining: 8.28s\n",
      "242:\tlearn: 0.6892249\ttotal: 2.65s\tremaining: 8.27s\n",
      "243:\tlearn: 0.6888425\ttotal: 2.66s\tremaining: 8.26s\n",
      "244:\tlearn: 0.6884636\ttotal: 2.67s\tremaining: 8.24s\n",
      "245:\tlearn: 0.6881154\ttotal: 2.69s\tremaining: 8.23s\n",
      "246:\tlearn: 0.6876777\ttotal: 2.7s\tremaining: 8.22s\n",
      "247:\tlearn: 0.6872252\ttotal: 2.71s\tremaining: 8.21s\n",
      "248:\tlearn: 0.6870022\ttotal: 2.72s\tremaining: 8.2s\n",
      "249:\tlearn: 0.6865266\ttotal: 2.73s\tremaining: 8.18s\n",
      "250:\tlearn: 0.6861168\ttotal: 2.74s\tremaining: 8.17s\n",
      "251:\tlearn: 0.6854552\ttotal: 2.75s\tremaining: 8.16s\n",
      "252:\tlearn: 0.6847330\ttotal: 2.76s\tremaining: 8.15s\n",
      "253:\tlearn: 0.6844163\ttotal: 2.77s\tremaining: 8.14s\n",
      "254:\tlearn: 0.6839755\ttotal: 2.78s\tremaining: 8.12s\n",
      "255:\tlearn: 0.6835345\ttotal: 2.79s\tremaining: 8.11s\n",
      "256:\tlearn: 0.6829930\ttotal: 2.8s\tremaining: 8.1s\n",
      "257:\tlearn: 0.6825297\ttotal: 2.81s\tremaining: 8.09s\n",
      "258:\tlearn: 0.6820520\ttotal: 2.83s\tremaining: 8.08s\n",
      "259:\tlearn: 0.6814917\ttotal: 2.84s\tremaining: 8.07s\n",
      "260:\tlearn: 0.6810578\ttotal: 2.85s\tremaining: 8.06s\n",
      "261:\tlearn: 0.6806453\ttotal: 2.86s\tremaining: 8.05s\n",
      "262:\tlearn: 0.6802273\ttotal: 2.87s\tremaining: 8.04s\n",
      "263:\tlearn: 0.6797390\ttotal: 2.88s\tremaining: 8.02s\n",
      "264:\tlearn: 0.6793934\ttotal: 2.89s\tremaining: 8.01s\n",
      "265:\tlearn: 0.6789106\ttotal: 2.9s\tremaining: 8s\n",
      "266:\tlearn: 0.6784956\ttotal: 2.91s\tremaining: 7.99s\n",
      "267:\tlearn: 0.6779944\ttotal: 2.92s\tremaining: 7.97s\n",
      "268:\tlearn: 0.6776514\ttotal: 2.93s\tremaining: 7.96s\n",
      "269:\tlearn: 0.6771751\ttotal: 2.94s\tremaining: 7.95s\n",
      "270:\tlearn: 0.6767742\ttotal: 2.95s\tremaining: 7.93s\n",
      "271:\tlearn: 0.6765638\ttotal: 2.96s\tremaining: 7.92s\n",
      "272:\tlearn: 0.6761794\ttotal: 2.97s\tremaining: 7.91s\n",
      "273:\tlearn: 0.6758204\ttotal: 2.98s\tremaining: 7.9s\n",
      "274:\tlearn: 0.6755279\ttotal: 2.99s\tremaining: 7.89s\n",
      "275:\tlearn: 0.6752532\ttotal: 3s\tremaining: 7.88s\n",
      "276:\tlearn: 0.6749772\ttotal: 3.01s\tremaining: 7.87s\n",
      "277:\tlearn: 0.6746911\ttotal: 3.02s\tremaining: 7.86s\n",
      "278:\tlearn: 0.6744985\ttotal: 3.04s\tremaining: 7.85s\n",
      "279:\tlearn: 0.6740195\ttotal: 3.05s\tremaining: 7.84s\n",
      "280:\tlearn: 0.6735523\ttotal: 3.06s\tremaining: 7.83s\n",
      "281:\tlearn: 0.6731348\ttotal: 3.07s\tremaining: 7.81s\n",
      "282:\tlearn: 0.6728637\ttotal: 3.08s\tremaining: 7.8s\n",
      "283:\tlearn: 0.6725951\ttotal: 3.09s\tremaining: 7.79s\n",
      "284:\tlearn: 0.6723343\ttotal: 3.1s\tremaining: 7.77s\n",
      "285:\tlearn: 0.6719914\ttotal: 3.11s\tremaining: 7.76s\n",
      "286:\tlearn: 0.6717815\ttotal: 3.12s\tremaining: 7.75s\n",
      "287:\tlearn: 0.6712235\ttotal: 3.13s\tremaining: 7.74s\n",
      "288:\tlearn: 0.6708140\ttotal: 3.14s\tremaining: 7.73s\n",
      "289:\tlearn: 0.6704457\ttotal: 3.15s\tremaining: 7.72s\n",
      "290:\tlearn: 0.6700650\ttotal: 3.16s\tremaining: 7.71s\n",
      "291:\tlearn: 0.6698010\ttotal: 3.17s\tremaining: 7.7s\n",
      "292:\tlearn: 0.6694134\ttotal: 3.18s\tremaining: 7.68s\n",
      "293:\tlearn: 0.6690982\ttotal: 3.19s\tremaining: 7.67s\n",
      "294:\tlearn: 0.6688602\ttotal: 3.21s\tremaining: 7.66s\n",
      "295:\tlearn: 0.6685543\ttotal: 3.22s\tremaining: 7.65s\n",
      "296:\tlearn: 0.6682748\ttotal: 3.23s\tremaining: 7.64s\n",
      "297:\tlearn: 0.6677093\ttotal: 3.24s\tremaining: 7.63s\n",
      "298:\tlearn: 0.6671457\ttotal: 3.25s\tremaining: 7.62s\n",
      "299:\tlearn: 0.6668052\ttotal: 3.26s\tremaining: 7.61s\n",
      "300:\tlearn: 0.6665305\ttotal: 3.27s\tremaining: 7.6s\n",
      "301:\tlearn: 0.6662262\ttotal: 3.28s\tremaining: 7.58s\n",
      "302:\tlearn: 0.6659807\ttotal: 3.29s\tremaining: 7.57s\n",
      "303:\tlearn: 0.6655563\ttotal: 3.3s\tremaining: 7.56s\n",
      "304:\tlearn: 0.6651401\ttotal: 3.31s\tremaining: 7.55s\n",
      "305:\tlearn: 0.6648761\ttotal: 3.32s\tremaining: 7.54s\n",
      "306:\tlearn: 0.6646073\ttotal: 3.33s\tremaining: 7.53s\n",
      "307:\tlearn: 0.6643064\ttotal: 3.35s\tremaining: 7.52s\n",
      "308:\tlearn: 0.6639324\ttotal: 3.36s\tremaining: 7.5s\n",
      "309:\tlearn: 0.6635398\ttotal: 3.37s\tremaining: 7.49s\n",
      "310:\tlearn: 0.6632952\ttotal: 3.38s\tremaining: 7.48s\n",
      "311:\tlearn: 0.6630123\ttotal: 3.39s\tremaining: 7.47s\n",
      "312:\tlearn: 0.6627242\ttotal: 3.4s\tremaining: 7.46s\n",
      "313:\tlearn: 0.6623052\ttotal: 3.41s\tremaining: 7.45s\n",
      "314:\tlearn: 0.6618548\ttotal: 3.42s\tremaining: 7.44s\n",
      "315:\tlearn: 0.6615600\ttotal: 3.43s\tremaining: 7.43s\n",
      "316:\tlearn: 0.6610535\ttotal: 3.44s\tremaining: 7.42s\n",
      "317:\tlearn: 0.6606905\ttotal: 3.45s\tremaining: 7.41s\n",
      "318:\tlearn: 0.6603470\ttotal: 3.46s\tremaining: 7.39s\n",
      "319:\tlearn: 0.6601491\ttotal: 3.47s\tremaining: 7.38s\n",
      "320:\tlearn: 0.6597342\ttotal: 3.48s\tremaining: 7.37s\n",
      "321:\tlearn: 0.6593944\ttotal: 3.5s\tremaining: 7.36s\n",
      "322:\tlearn: 0.6590996\ttotal: 3.5s\tremaining: 7.35s\n",
      "323:\tlearn: 0.6588832\ttotal: 3.52s\tremaining: 7.34s\n",
      "324:\tlearn: 0.6586233\ttotal: 3.53s\tremaining: 7.33s\n",
      "325:\tlearn: 0.6581330\ttotal: 3.54s\tremaining: 7.31s\n",
      "326:\tlearn: 0.6579088\ttotal: 3.55s\tremaining: 7.3s\n",
      "327:\tlearn: 0.6576437\ttotal: 3.56s\tremaining: 7.29s\n",
      "328:\tlearn: 0.6574082\ttotal: 3.57s\tremaining: 7.28s\n",
      "329:\tlearn: 0.6570252\ttotal: 3.58s\tremaining: 7.26s\n",
      "330:\tlearn: 0.6566635\ttotal: 3.59s\tremaining: 7.25s\n",
      "331:\tlearn: 0.6564069\ttotal: 3.6s\tremaining: 7.24s\n",
      "332:\tlearn: 0.6561202\ttotal: 3.61s\tremaining: 7.23s\n",
      "333:\tlearn: 0.6558077\ttotal: 3.62s\tremaining: 7.21s\n",
      "334:\tlearn: 0.6554924\ttotal: 3.63s\tremaining: 7.2s\n",
      "335:\tlearn: 0.6552930\ttotal: 3.64s\tremaining: 7.19s\n",
      "336:\tlearn: 0.6550922\ttotal: 3.65s\tremaining: 7.18s\n",
      "337:\tlearn: 0.6547880\ttotal: 3.66s\tremaining: 7.17s\n",
      "338:\tlearn: 0.6544687\ttotal: 3.67s\tremaining: 7.16s\n",
      "339:\tlearn: 0.6540429\ttotal: 3.68s\tremaining: 7.15s\n",
      "340:\tlearn: 0.6538294\ttotal: 3.69s\tremaining: 7.14s\n",
      "341:\tlearn: 0.6533899\ttotal: 3.7s\tremaining: 7.13s\n",
      "342:\tlearn: 0.6530856\ttotal: 3.71s\tremaining: 7.11s\n",
      "343:\tlearn: 0.6528174\ttotal: 3.73s\tremaining: 7.1s\n",
      "344:\tlearn: 0.6524900\ttotal: 3.73s\tremaining: 7.09s\n",
      "345:\tlearn: 0.6521895\ttotal: 3.75s\tremaining: 7.08s\n",
      "346:\tlearn: 0.6520754\ttotal: 3.76s\tremaining: 7.07s\n",
      "347:\tlearn: 0.6518342\ttotal: 3.77s\tremaining: 7.06s\n",
      "348:\tlearn: 0.6516028\ttotal: 3.78s\tremaining: 7.04s\n",
      "349:\tlearn: 0.6513137\ttotal: 3.79s\tremaining: 7.03s\n",
      "350:\tlearn: 0.6509598\ttotal: 3.8s\tremaining: 7.02s\n",
      "351:\tlearn: 0.6507394\ttotal: 3.81s\tremaining: 7.01s\n",
      "352:\tlearn: 0.6504742\ttotal: 3.82s\tremaining: 7s\n",
      "353:\tlearn: 0.6502362\ttotal: 3.83s\tremaining: 6.99s\n",
      "354:\tlearn: 0.6500022\ttotal: 3.84s\tremaining: 6.98s\n",
      "355:\tlearn: 0.6497472\ttotal: 3.85s\tremaining: 6.97s\n",
      "356:\tlearn: 0.6495284\ttotal: 3.86s\tremaining: 6.95s\n",
      "357:\tlearn: 0.6492137\ttotal: 3.87s\tremaining: 6.94s\n",
      "358:\tlearn: 0.6489394\ttotal: 3.88s\tremaining: 6.93s\n",
      "359:\tlearn: 0.6486840\ttotal: 3.89s\tremaining: 6.92s\n",
      "360:\tlearn: 0.6484499\ttotal: 3.9s\tremaining: 6.91s\n",
      "361:\tlearn: 0.6481423\ttotal: 3.91s\tremaining: 6.9s\n",
      "362:\tlearn: 0.6478482\ttotal: 3.92s\tremaining: 6.89s\n",
      "363:\tlearn: 0.6476425\ttotal: 3.93s\tremaining: 6.87s\n",
      "364:\tlearn: 0.6472030\ttotal: 3.94s\tremaining: 6.86s\n",
      "365:\tlearn: 0.6468454\ttotal: 3.95s\tremaining: 6.85s\n",
      "366:\tlearn: 0.6466572\ttotal: 3.96s\tremaining: 6.84s\n",
      "367:\tlearn: 0.6463928\ttotal: 3.98s\tremaining: 6.83s\n",
      "368:\tlearn: 0.6460934\ttotal: 3.99s\tremaining: 6.82s\n",
      "369:\tlearn: 0.6457685\ttotal: 4s\tremaining: 6.81s\n",
      "370:\tlearn: 0.6455262\ttotal: 4.01s\tremaining: 6.8s\n",
      "371:\tlearn: 0.6453541\ttotal: 4.02s\tremaining: 6.78s\n",
      "372:\tlearn: 0.6451143\ttotal: 4.03s\tremaining: 6.77s\n",
      "373:\tlearn: 0.6448223\ttotal: 4.04s\tremaining: 6.76s\n",
      "374:\tlearn: 0.6445764\ttotal: 4.05s\tremaining: 6.75s\n",
      "375:\tlearn: 0.6441084\ttotal: 4.06s\tremaining: 6.74s\n",
      "376:\tlearn: 0.6437541\ttotal: 4.07s\tremaining: 6.73s\n",
      "377:\tlearn: 0.6436066\ttotal: 4.08s\tremaining: 6.72s\n",
      "378:\tlearn: 0.6432502\ttotal: 4.09s\tremaining: 6.71s\n",
      "379:\tlearn: 0.6430328\ttotal: 4.1s\tremaining: 6.7s\n",
      "380:\tlearn: 0.6427499\ttotal: 4.11s\tremaining: 6.68s\n",
      "381:\tlearn: 0.6424952\ttotal: 4.13s\tremaining: 6.67s\n",
      "382:\tlearn: 0.6422817\ttotal: 4.13s\tremaining: 6.66s\n",
      "383:\tlearn: 0.6421067\ttotal: 4.14s\tremaining: 6.65s\n",
      "384:\tlearn: 0.6417690\ttotal: 4.16s\tremaining: 6.64s\n",
      "385:\tlearn: 0.6411900\ttotal: 4.17s\tremaining: 6.63s\n",
      "386:\tlearn: 0.6408376\ttotal: 4.18s\tremaining: 6.62s\n",
      "387:\tlearn: 0.6405662\ttotal: 4.19s\tremaining: 6.6s\n",
      "388:\tlearn: 0.6403285\ttotal: 4.2s\tremaining: 6.59s\n",
      "389:\tlearn: 0.6400429\ttotal: 4.21s\tremaining: 6.58s\n",
      "390:\tlearn: 0.6397946\ttotal: 4.22s\tremaining: 6.57s\n",
      "391:\tlearn: 0.6395024\ttotal: 4.23s\tremaining: 6.56s\n",
      "392:\tlearn: 0.6391996\ttotal: 4.24s\tremaining: 6.55s\n",
      "393:\tlearn: 0.6390028\ttotal: 4.25s\tremaining: 6.54s\n",
      "394:\tlearn: 0.6386211\ttotal: 4.26s\tremaining: 6.53s\n",
      "395:\tlearn: 0.6382673\ttotal: 4.27s\tremaining: 6.51s\n",
      "396:\tlearn: 0.6380907\ttotal: 4.28s\tremaining: 6.5s\n",
      "397:\tlearn: 0.6378415\ttotal: 4.29s\tremaining: 6.49s\n",
      "398:\tlearn: 0.6375731\ttotal: 4.3s\tremaining: 6.48s\n",
      "399:\tlearn: 0.6373641\ttotal: 4.31s\tremaining: 6.47s\n",
      "400:\tlearn: 0.6371113\ttotal: 4.32s\tremaining: 6.46s\n",
      "401:\tlearn: 0.6366698\ttotal: 4.33s\tremaining: 6.45s\n",
      "402:\tlearn: 0.6365064\ttotal: 4.34s\tremaining: 6.44s\n",
      "403:\tlearn: 0.6362671\ttotal: 4.36s\tremaining: 6.43s\n",
      "404:\tlearn: 0.6358597\ttotal: 4.37s\tremaining: 6.42s\n",
      "405:\tlearn: 0.6355564\ttotal: 4.38s\tremaining: 6.41s\n",
      "406:\tlearn: 0.6352815\ttotal: 4.39s\tremaining: 6.39s\n",
      "407:\tlearn: 0.6350685\ttotal: 4.4s\tremaining: 6.38s\n",
      "408:\tlearn: 0.6347216\ttotal: 4.41s\tremaining: 6.37s\n",
      "409:\tlearn: 0.6344953\ttotal: 4.42s\tremaining: 6.36s\n",
      "410:\tlearn: 0.6343000\ttotal: 4.43s\tremaining: 6.35s\n",
      "411:\tlearn: 0.6339836\ttotal: 4.44s\tremaining: 6.34s\n",
      "412:\tlearn: 0.6338093\ttotal: 4.45s\tremaining: 6.33s\n",
      "413:\tlearn: 0.6334309\ttotal: 4.46s\tremaining: 6.32s\n",
      "414:\tlearn: 0.6332808\ttotal: 4.47s\tremaining: 6.31s\n",
      "415:\tlearn: 0.6328153\ttotal: 4.49s\tremaining: 6.3s\n",
      "416:\tlearn: 0.6325866\ttotal: 4.5s\tremaining: 6.29s\n",
      "417:\tlearn: 0.6323146\ttotal: 4.51s\tremaining: 6.28s\n",
      "418:\tlearn: 0.6321787\ttotal: 4.52s\tremaining: 6.26s\n",
      "419:\tlearn: 0.6318072\ttotal: 4.53s\tremaining: 6.25s\n",
      "420:\tlearn: 0.6316190\ttotal: 4.54s\tremaining: 6.24s\n",
      "421:\tlearn: 0.6314552\ttotal: 4.55s\tremaining: 6.23s\n",
      "422:\tlearn: 0.6312599\ttotal: 4.56s\tremaining: 6.22s\n",
      "423:\tlearn: 0.6310298\ttotal: 4.57s\tremaining: 6.21s\n",
      "424:\tlearn: 0.6307477\ttotal: 4.58s\tremaining: 6.2s\n",
      "425:\tlearn: 0.6305476\ttotal: 4.59s\tremaining: 6.18s\n",
      "426:\tlearn: 0.6303310\ttotal: 4.6s\tremaining: 6.17s\n",
      "427:\tlearn: 0.6301711\ttotal: 4.61s\tremaining: 6.16s\n",
      "428:\tlearn: 0.6299617\ttotal: 4.62s\tremaining: 6.15s\n",
      "429:\tlearn: 0.6297223\ttotal: 4.63s\tremaining: 6.14s\n",
      "430:\tlearn: 0.6294350\ttotal: 4.64s\tremaining: 6.13s\n",
      "431:\tlearn: 0.6291736\ttotal: 4.66s\tremaining: 6.12s\n",
      "432:\tlearn: 0.6289273\ttotal: 4.67s\tremaining: 6.11s\n",
      "433:\tlearn: 0.6287670\ttotal: 4.67s\tremaining: 6.1s\n",
      "434:\tlearn: 0.6286010\ttotal: 4.68s\tremaining: 6.09s\n",
      "435:\tlearn: 0.6283606\ttotal: 4.7s\tremaining: 6.08s\n",
      "436:\tlearn: 0.6280668\ttotal: 4.71s\tremaining: 6.06s\n",
      "437:\tlearn: 0.6278692\ttotal: 4.72s\tremaining: 6.05s\n",
      "438:\tlearn: 0.6276006\ttotal: 4.73s\tremaining: 6.04s\n",
      "439:\tlearn: 0.6273638\ttotal: 4.74s\tremaining: 6.03s\n",
      "440:\tlearn: 0.6271055\ttotal: 4.75s\tremaining: 6.02s\n",
      "441:\tlearn: 0.6269837\ttotal: 4.76s\tremaining: 6.01s\n",
      "442:\tlearn: 0.6267392\ttotal: 4.77s\tremaining: 6s\n",
      "443:\tlearn: 0.6266215\ttotal: 4.78s\tremaining: 5.99s\n",
      "444:\tlearn: 0.6263679\ttotal: 4.79s\tremaining: 5.97s\n",
      "445:\tlearn: 0.6261587\ttotal: 4.8s\tremaining: 5.96s\n",
      "446:\tlearn: 0.6259501\ttotal: 4.81s\tremaining: 5.95s\n",
      "447:\tlearn: 0.6255515\ttotal: 4.82s\tremaining: 5.94s\n",
      "448:\tlearn: 0.6253258\ttotal: 4.83s\tremaining: 5.93s\n",
      "449:\tlearn: 0.6251742\ttotal: 4.84s\tremaining: 5.92s\n",
      "450:\tlearn: 0.6247562\ttotal: 4.86s\tremaining: 5.91s\n",
      "451:\tlearn: 0.6245367\ttotal: 4.87s\tremaining: 5.9s\n",
      "452:\tlearn: 0.6243744\ttotal: 4.88s\tremaining: 5.89s\n",
      "453:\tlearn: 0.6242200\ttotal: 4.89s\tremaining: 5.88s\n",
      "454:\tlearn: 0.6240825\ttotal: 4.9s\tremaining: 5.87s\n",
      "455:\tlearn: 0.6238330\ttotal: 4.91s\tremaining: 5.86s\n",
      "456:\tlearn: 0.6235110\ttotal: 4.92s\tremaining: 5.85s\n",
      "457:\tlearn: 0.6233251\ttotal: 4.93s\tremaining: 5.84s\n",
      "458:\tlearn: 0.6231480\ttotal: 4.94s\tremaining: 5.83s\n",
      "459:\tlearn: 0.6229200\ttotal: 4.95s\tremaining: 5.82s\n",
      "460:\tlearn: 0.6227534\ttotal: 4.96s\tremaining: 5.8s\n",
      "461:\tlearn: 0.6225411\ttotal: 4.98s\tremaining: 5.8s\n",
      "462:\tlearn: 0.6223871\ttotal: 5s\tremaining: 5.79s\n",
      "463:\tlearn: 0.6221408\ttotal: 5.02s\tremaining: 5.79s\n",
      "464:\tlearn: 0.6219996\ttotal: 5.03s\tremaining: 5.79s\n",
      "465:\tlearn: 0.6217729\ttotal: 5.05s\tremaining: 5.79s\n",
      "466:\tlearn: 0.6215828\ttotal: 5.06s\tremaining: 5.78s\n",
      "467:\tlearn: 0.6213907\ttotal: 5.08s\tremaining: 5.77s\n",
      "468:\tlearn: 0.6213132\ttotal: 5.09s\tremaining: 5.76s\n",
      "469:\tlearn: 0.6210528\ttotal: 5.11s\tremaining: 5.76s\n",
      "470:\tlearn: 0.6206838\ttotal: 5.12s\tremaining: 5.75s\n",
      "471:\tlearn: 0.6204062\ttotal: 5.13s\tremaining: 5.74s\n",
      "472:\tlearn: 0.6201133\ttotal: 5.14s\tremaining: 5.73s\n",
      "473:\tlearn: 0.6198390\ttotal: 5.15s\tremaining: 5.72s\n",
      "474:\tlearn: 0.6195166\ttotal: 5.16s\tremaining: 5.71s\n",
      "475:\tlearn: 0.6193437\ttotal: 5.18s\tremaining: 5.7s\n",
      "476:\tlearn: 0.6191343\ttotal: 5.19s\tremaining: 5.69s\n",
      "477:\tlearn: 0.6188255\ttotal: 5.2s\tremaining: 5.68s\n",
      "478:\tlearn: 0.6182754\ttotal: 5.21s\tremaining: 5.67s\n",
      "479:\tlearn: 0.6180074\ttotal: 5.22s\tremaining: 5.66s\n",
      "480:\tlearn: 0.6179081\ttotal: 5.23s\tremaining: 5.64s\n",
      "481:\tlearn: 0.6175192\ttotal: 5.24s\tremaining: 5.64s\n",
      "482:\tlearn: 0.6172678\ttotal: 5.26s\tremaining: 5.63s\n",
      "483:\tlearn: 0.6171268\ttotal: 5.27s\tremaining: 5.62s\n",
      "484:\tlearn: 0.6169468\ttotal: 5.28s\tremaining: 5.61s\n",
      "485:\tlearn: 0.6167202\ttotal: 5.29s\tremaining: 5.6s\n",
      "486:\tlearn: 0.6164975\ttotal: 5.3s\tremaining: 5.59s\n",
      "487:\tlearn: 0.6164178\ttotal: 5.31s\tremaining: 5.58s\n",
      "488:\tlearn: 0.6162885\ttotal: 5.33s\tremaining: 5.56s\n",
      "489:\tlearn: 0.6161556\ttotal: 5.34s\tremaining: 5.55s\n",
      "490:\tlearn: 0.6158891\ttotal: 5.35s\tremaining: 5.54s\n",
      "491:\tlearn: 0.6156983\ttotal: 5.36s\tremaining: 5.53s\n",
      "492:\tlearn: 0.6153184\ttotal: 5.37s\tremaining: 5.52s\n",
      "493:\tlearn: 0.6150925\ttotal: 5.38s\tremaining: 5.51s\n",
      "494:\tlearn: 0.6149002\ttotal: 5.39s\tremaining: 5.5s\n",
      "495:\tlearn: 0.6145243\ttotal: 5.4s\tremaining: 5.49s\n",
      "496:\tlearn: 0.6143187\ttotal: 5.42s\tremaining: 5.48s\n",
      "497:\tlearn: 0.6140693\ttotal: 5.43s\tremaining: 5.47s\n",
      "498:\tlearn: 0.6139276\ttotal: 5.44s\tremaining: 5.46s\n",
      "499:\tlearn: 0.6138355\ttotal: 5.45s\tremaining: 5.45s\n",
      "500:\tlearn: 0.6136365\ttotal: 5.46s\tremaining: 5.44s\n",
      "501:\tlearn: 0.6134512\ttotal: 5.47s\tremaining: 5.43s\n",
      "502:\tlearn: 0.6131963\ttotal: 5.49s\tremaining: 5.42s\n",
      "503:\tlearn: 0.6129647\ttotal: 5.5s\tremaining: 5.41s\n",
      "504:\tlearn: 0.6125577\ttotal: 5.51s\tremaining: 5.4s\n",
      "505:\tlearn: 0.6124031\ttotal: 5.52s\tremaining: 5.39s\n",
      "506:\tlearn: 0.6122952\ttotal: 5.53s\tremaining: 5.38s\n",
      "507:\tlearn: 0.6120288\ttotal: 5.54s\tremaining: 5.37s\n",
      "508:\tlearn: 0.6119044\ttotal: 5.56s\tremaining: 5.36s\n",
      "509:\tlearn: 0.6115548\ttotal: 5.57s\tremaining: 5.35s\n",
      "510:\tlearn: 0.6113972\ttotal: 5.58s\tremaining: 5.34s\n",
      "511:\tlearn: 0.6110837\ttotal: 5.59s\tremaining: 5.33s\n",
      "512:\tlearn: 0.6109154\ttotal: 5.6s\tremaining: 5.32s\n",
      "513:\tlearn: 0.6106828\ttotal: 5.62s\tremaining: 5.31s\n",
      "514:\tlearn: 0.6105074\ttotal: 5.63s\tremaining: 5.3s\n",
      "515:\tlearn: 0.6103732\ttotal: 5.64s\tremaining: 5.29s\n",
      "516:\tlearn: 0.6102192\ttotal: 5.65s\tremaining: 5.28s\n",
      "517:\tlearn: 0.6100489\ttotal: 5.66s\tremaining: 5.27s\n",
      "518:\tlearn: 0.6098211\ttotal: 5.67s\tremaining: 5.26s\n",
      "519:\tlearn: 0.6096616\ttotal: 5.69s\tremaining: 5.25s\n",
      "520:\tlearn: 0.6095058\ttotal: 5.7s\tremaining: 5.24s\n",
      "521:\tlearn: 0.6093562\ttotal: 5.71s\tremaining: 5.23s\n",
      "522:\tlearn: 0.6091238\ttotal: 5.72s\tremaining: 5.22s\n",
      "523:\tlearn: 0.6089767\ttotal: 5.73s\tremaining: 5.21s\n",
      "524:\tlearn: 0.6088034\ttotal: 5.74s\tremaining: 5.2s\n",
      "525:\tlearn: 0.6085540\ttotal: 5.76s\tremaining: 5.19s\n",
      "526:\tlearn: 0.6084276\ttotal: 5.77s\tremaining: 5.18s\n",
      "527:\tlearn: 0.6082120\ttotal: 5.78s\tremaining: 5.17s\n",
      "528:\tlearn: 0.6079908\ttotal: 5.79s\tremaining: 5.16s\n",
      "529:\tlearn: 0.6078278\ttotal: 5.8s\tremaining: 5.15s\n",
      "530:\tlearn: 0.6076779\ttotal: 5.82s\tremaining: 5.14s\n",
      "531:\tlearn: 0.6074965\ttotal: 5.83s\tremaining: 5.13s\n",
      "532:\tlearn: 0.6072970\ttotal: 5.84s\tremaining: 5.12s\n",
      "533:\tlearn: 0.6070918\ttotal: 5.85s\tremaining: 5.1s\n",
      "534:\tlearn: 0.6069165\ttotal: 5.86s\tremaining: 5.09s\n",
      "535:\tlearn: 0.6066609\ttotal: 5.87s\tremaining: 5.08s\n",
      "536:\tlearn: 0.6064748\ttotal: 5.88s\tremaining: 5.07s\n",
      "537:\tlearn: 0.6063133\ttotal: 5.9s\tremaining: 5.06s\n",
      "538:\tlearn: 0.6060510\ttotal: 5.91s\tremaining: 5.05s\n",
      "539:\tlearn: 0.6058943\ttotal: 5.92s\tremaining: 5.04s\n",
      "540:\tlearn: 0.6057648\ttotal: 5.93s\tremaining: 5.03s\n",
      "541:\tlearn: 0.6055471\ttotal: 5.94s\tremaining: 5.02s\n",
      "542:\tlearn: 0.6054376\ttotal: 5.95s\tremaining: 5.01s\n",
      "543:\tlearn: 0.6052680\ttotal: 5.96s\tremaining: 5s\n",
      "544:\tlearn: 0.6050178\ttotal: 5.98s\tremaining: 4.99s\n",
      "545:\tlearn: 0.6048113\ttotal: 5.99s\tremaining: 4.98s\n",
      "546:\tlearn: 0.6045350\ttotal: 6s\tremaining: 4.97s\n",
      "547:\tlearn: 0.6044376\ttotal: 6.01s\tremaining: 4.96s\n",
      "548:\tlearn: 0.6042166\ttotal: 6.02s\tremaining: 4.95s\n",
      "549:\tlearn: 0.6039619\ttotal: 6.03s\tremaining: 4.94s\n",
      "550:\tlearn: 0.6037532\ttotal: 6.04s\tremaining: 4.93s\n",
      "551:\tlearn: 0.6035471\ttotal: 6.06s\tremaining: 4.92s\n",
      "552:\tlearn: 0.6034611\ttotal: 6.07s\tremaining: 4.91s\n",
      "553:\tlearn: 0.6033353\ttotal: 6.08s\tremaining: 4.9s\n",
      "554:\tlearn: 0.6031694\ttotal: 6.09s\tremaining: 4.89s\n",
      "555:\tlearn: 0.6029974\ttotal: 6.11s\tremaining: 4.88s\n",
      "556:\tlearn: 0.6029321\ttotal: 6.12s\tremaining: 4.86s\n",
      "557:\tlearn: 0.6027151\ttotal: 6.13s\tremaining: 4.85s\n",
      "558:\tlearn: 0.6025807\ttotal: 6.14s\tremaining: 4.84s\n",
      "559:\tlearn: 0.6024558\ttotal: 6.15s\tremaining: 4.83s\n",
      "560:\tlearn: 0.6022336\ttotal: 6.17s\tremaining: 4.82s\n",
      "561:\tlearn: 0.6021005\ttotal: 6.18s\tremaining: 4.81s\n",
      "562:\tlearn: 0.6019743\ttotal: 6.19s\tremaining: 4.8s\n",
      "563:\tlearn: 0.6017898\ttotal: 6.2s\tremaining: 4.79s\n",
      "564:\tlearn: 0.6016201\ttotal: 6.21s\tremaining: 4.78s\n",
      "565:\tlearn: 0.6014655\ttotal: 6.22s\tremaining: 4.77s\n",
      "566:\tlearn: 0.6013192\ttotal: 6.23s\tremaining: 4.76s\n",
      "567:\tlearn: 0.6011291\ttotal: 6.24s\tremaining: 4.75s\n",
      "568:\tlearn: 0.6010078\ttotal: 6.26s\tremaining: 4.74s\n",
      "569:\tlearn: 0.6008387\ttotal: 6.27s\tremaining: 4.73s\n",
      "570:\tlearn: 0.6005055\ttotal: 6.28s\tremaining: 4.72s\n",
      "571:\tlearn: 0.6002891\ttotal: 6.29s\tremaining: 4.71s\n",
      "572:\tlearn: 0.6000781\ttotal: 6.3s\tremaining: 4.7s\n",
      "573:\tlearn: 0.5997595\ttotal: 6.31s\tremaining: 4.68s\n",
      "574:\tlearn: 0.5996511\ttotal: 6.33s\tremaining: 4.67s\n",
      "575:\tlearn: 0.5994630\ttotal: 6.34s\tremaining: 4.66s\n",
      "576:\tlearn: 0.5993139\ttotal: 6.35s\tremaining: 4.65s\n",
      "577:\tlearn: 0.5989474\ttotal: 6.36s\tremaining: 4.64s\n",
      "578:\tlearn: 0.5987916\ttotal: 6.37s\tremaining: 4.63s\n",
      "579:\tlearn: 0.5986204\ttotal: 6.38s\tremaining: 4.62s\n",
      "580:\tlearn: 0.5984395\ttotal: 6.39s\tremaining: 4.61s\n",
      "581:\tlearn: 0.5982652\ttotal: 6.4s\tremaining: 4.6s\n",
      "582:\tlearn: 0.5980709\ttotal: 6.42s\tremaining: 4.59s\n",
      "583:\tlearn: 0.5979754\ttotal: 6.43s\tremaining: 4.58s\n",
      "584:\tlearn: 0.5977971\ttotal: 6.44s\tremaining: 4.57s\n",
      "585:\tlearn: 0.5975972\ttotal: 6.45s\tremaining: 4.56s\n",
      "586:\tlearn: 0.5973525\ttotal: 6.46s\tremaining: 4.55s\n",
      "587:\tlearn: 0.5971878\ttotal: 6.47s\tremaining: 4.54s\n",
      "588:\tlearn: 0.5970507\ttotal: 6.49s\tremaining: 4.53s\n",
      "589:\tlearn: 0.5969036\ttotal: 6.5s\tremaining: 4.51s\n",
      "590:\tlearn: 0.5967942\ttotal: 6.51s\tremaining: 4.5s\n",
      "591:\tlearn: 0.5965865\ttotal: 6.52s\tremaining: 4.49s\n",
      "592:\tlearn: 0.5965482\ttotal: 6.53s\tremaining: 4.48s\n",
      "593:\tlearn: 0.5962914\ttotal: 6.54s\tremaining: 4.47s\n",
      "594:\tlearn: 0.5959971\ttotal: 6.55s\tremaining: 4.46s\n",
      "595:\tlearn: 0.5958397\ttotal: 6.57s\tremaining: 4.45s\n",
      "596:\tlearn: 0.5956169\ttotal: 6.58s\tremaining: 4.44s\n",
      "597:\tlearn: 0.5955174\ttotal: 6.59s\tremaining: 4.43s\n",
      "598:\tlearn: 0.5953998\ttotal: 6.6s\tremaining: 4.42s\n",
      "599:\tlearn: 0.5952805\ttotal: 6.61s\tremaining: 4.41s\n",
      "600:\tlearn: 0.5951517\ttotal: 6.62s\tremaining: 4.4s\n",
      "601:\tlearn: 0.5949199\ttotal: 6.63s\tremaining: 4.38s\n",
      "602:\tlearn: 0.5947509\ttotal: 6.64s\tremaining: 4.38s\n",
      "603:\tlearn: 0.5946000\ttotal: 6.66s\tremaining: 4.36s\n",
      "604:\tlearn: 0.5942947\ttotal: 6.67s\tremaining: 4.35s\n",
      "605:\tlearn: 0.5940767\ttotal: 6.68s\tremaining: 4.34s\n",
      "606:\tlearn: 0.5939671\ttotal: 6.69s\tremaining: 4.33s\n",
      "607:\tlearn: 0.5937039\ttotal: 6.71s\tremaining: 4.32s\n",
      "608:\tlearn: 0.5935183\ttotal: 6.72s\tremaining: 4.31s\n",
      "609:\tlearn: 0.5933980\ttotal: 6.73s\tremaining: 4.3s\n",
      "610:\tlearn: 0.5932418\ttotal: 6.74s\tremaining: 4.29s\n",
      "611:\tlearn: 0.5930757\ttotal: 6.75s\tremaining: 4.28s\n",
      "612:\tlearn: 0.5928722\ttotal: 6.76s\tremaining: 4.27s\n",
      "613:\tlearn: 0.5926728\ttotal: 6.78s\tremaining: 4.26s\n",
      "614:\tlearn: 0.5924285\ttotal: 6.79s\tremaining: 4.25s\n",
      "615:\tlearn: 0.5922911\ttotal: 6.8s\tremaining: 4.24s\n",
      "616:\tlearn: 0.5921451\ttotal: 6.81s\tremaining: 4.23s\n",
      "617:\tlearn: 0.5920267\ttotal: 6.82s\tremaining: 4.22s\n",
      "618:\tlearn: 0.5918824\ttotal: 6.83s\tremaining: 4.21s\n",
      "619:\tlearn: 0.5917490\ttotal: 6.84s\tremaining: 4.2s\n",
      "620:\tlearn: 0.5915865\ttotal: 6.86s\tremaining: 4.18s\n",
      "621:\tlearn: 0.5914196\ttotal: 6.87s\tremaining: 4.17s\n",
      "622:\tlearn: 0.5911994\ttotal: 6.88s\tremaining: 4.16s\n",
      "623:\tlearn: 0.5910642\ttotal: 6.89s\tremaining: 4.15s\n",
      "624:\tlearn: 0.5908556\ttotal: 6.9s\tremaining: 4.14s\n",
      "625:\tlearn: 0.5906197\ttotal: 6.91s\tremaining: 4.13s\n",
      "626:\tlearn: 0.5904678\ttotal: 6.93s\tremaining: 4.12s\n",
      "627:\tlearn: 0.5902590\ttotal: 6.94s\tremaining: 4.11s\n",
      "628:\tlearn: 0.5901090\ttotal: 6.96s\tremaining: 4.1s\n",
      "629:\tlearn: 0.5899544\ttotal: 6.97s\tremaining: 4.09s\n",
      "630:\tlearn: 0.5898270\ttotal: 6.98s\tremaining: 4.08s\n",
      "631:\tlearn: 0.5896861\ttotal: 6.99s\tremaining: 4.07s\n",
      "632:\tlearn: 0.5895565\ttotal: 7s\tremaining: 4.06s\n",
      "633:\tlearn: 0.5893799\ttotal: 7.01s\tremaining: 4.05s\n",
      "634:\tlearn: 0.5892841\ttotal: 7.02s\tremaining: 4.04s\n",
      "635:\tlearn: 0.5891772\ttotal: 7.03s\tremaining: 4.03s\n",
      "636:\tlearn: 0.5890151\ttotal: 7.04s\tremaining: 4.01s\n",
      "637:\tlearn: 0.5887834\ttotal: 7.06s\tremaining: 4s\n",
      "638:\tlearn: 0.5885853\ttotal: 7.07s\tremaining: 3.99s\n",
      "639:\tlearn: 0.5884072\ttotal: 7.08s\tremaining: 3.98s\n",
      "640:\tlearn: 0.5882019\ttotal: 7.09s\tremaining: 3.97s\n",
      "641:\tlearn: 0.5880229\ttotal: 7.1s\tremaining: 3.96s\n",
      "642:\tlearn: 0.5878673\ttotal: 7.12s\tremaining: 3.95s\n",
      "643:\tlearn: 0.5877009\ttotal: 7.13s\tremaining: 3.94s\n",
      "644:\tlearn: 0.5874750\ttotal: 7.14s\tremaining: 3.93s\n",
      "645:\tlearn: 0.5873184\ttotal: 7.15s\tremaining: 3.92s\n",
      "646:\tlearn: 0.5871706\ttotal: 7.16s\tremaining: 3.91s\n",
      "647:\tlearn: 0.5870949\ttotal: 7.17s\tremaining: 3.9s\n",
      "648:\tlearn: 0.5869333\ttotal: 7.18s\tremaining: 3.88s\n",
      "649:\tlearn: 0.5867927\ttotal: 7.19s\tremaining: 3.87s\n",
      "650:\tlearn: 0.5865945\ttotal: 7.21s\tremaining: 3.86s\n",
      "651:\tlearn: 0.5863299\ttotal: 7.22s\tremaining: 3.85s\n",
      "652:\tlearn: 0.5861614\ttotal: 7.23s\tremaining: 3.84s\n",
      "653:\tlearn: 0.5860050\ttotal: 7.24s\tremaining: 3.83s\n",
      "654:\tlearn: 0.5858532\ttotal: 7.25s\tremaining: 3.82s\n",
      "655:\tlearn: 0.5857182\ttotal: 7.26s\tremaining: 3.81s\n",
      "656:\tlearn: 0.5855391\ttotal: 7.27s\tremaining: 3.8s\n",
      "657:\tlearn: 0.5853648\ttotal: 7.29s\tremaining: 3.79s\n",
      "658:\tlearn: 0.5851348\ttotal: 7.3s\tremaining: 3.78s\n",
      "659:\tlearn: 0.5850593\ttotal: 7.31s\tremaining: 3.77s\n",
      "660:\tlearn: 0.5849577\ttotal: 7.32s\tremaining: 3.75s\n",
      "661:\tlearn: 0.5847597\ttotal: 7.33s\tremaining: 3.74s\n",
      "662:\tlearn: 0.5846597\ttotal: 7.34s\tremaining: 3.73s\n",
      "663:\tlearn: 0.5845046\ttotal: 7.36s\tremaining: 3.72s\n",
      "664:\tlearn: 0.5844034\ttotal: 7.37s\tremaining: 3.71s\n",
      "665:\tlearn: 0.5842226\ttotal: 7.38s\tremaining: 3.7s\n",
      "666:\tlearn: 0.5840975\ttotal: 7.39s\tremaining: 3.69s\n",
      "667:\tlearn: 0.5838264\ttotal: 7.4s\tremaining: 3.68s\n",
      "668:\tlearn: 0.5836829\ttotal: 7.41s\tremaining: 3.67s\n",
      "669:\tlearn: 0.5834400\ttotal: 7.42s\tremaining: 3.66s\n",
      "670:\tlearn: 0.5832967\ttotal: 7.44s\tremaining: 3.65s\n",
      "671:\tlearn: 0.5830374\ttotal: 7.45s\tremaining: 3.63s\n",
      "672:\tlearn: 0.5828598\ttotal: 7.46s\tremaining: 3.62s\n",
      "673:\tlearn: 0.5826207\ttotal: 7.47s\tremaining: 3.61s\n",
      "674:\tlearn: 0.5823879\ttotal: 7.48s\tremaining: 3.6s\n",
      "675:\tlearn: 0.5822828\ttotal: 7.49s\tremaining: 3.59s\n",
      "676:\tlearn: 0.5821959\ttotal: 7.51s\tremaining: 3.58s\n",
      "677:\tlearn: 0.5820376\ttotal: 7.52s\tremaining: 3.57s\n",
      "678:\tlearn: 0.5817961\ttotal: 7.53s\tremaining: 3.56s\n",
      "679:\tlearn: 0.5816227\ttotal: 7.54s\tremaining: 3.55s\n",
      "680:\tlearn: 0.5814685\ttotal: 7.55s\tremaining: 3.54s\n",
      "681:\tlearn: 0.5813615\ttotal: 7.57s\tremaining: 3.53s\n",
      "682:\tlearn: 0.5811323\ttotal: 7.58s\tremaining: 3.52s\n",
      "683:\tlearn: 0.5810083\ttotal: 7.59s\tremaining: 3.51s\n",
      "684:\tlearn: 0.5808837\ttotal: 7.6s\tremaining: 3.5s\n",
      "685:\tlearn: 0.5806937\ttotal: 7.61s\tremaining: 3.48s\n",
      "686:\tlearn: 0.5805848\ttotal: 7.63s\tremaining: 3.47s\n",
      "687:\tlearn: 0.5804902\ttotal: 7.64s\tremaining: 3.46s\n",
      "688:\tlearn: 0.5803404\ttotal: 7.65s\tremaining: 3.45s\n",
      "689:\tlearn: 0.5802690\ttotal: 7.66s\tremaining: 3.44s\n",
      "690:\tlearn: 0.5799527\ttotal: 7.67s\tremaining: 3.43s\n",
      "691:\tlearn: 0.5798351\ttotal: 7.68s\tremaining: 3.42s\n",
      "692:\tlearn: 0.5796723\ttotal: 7.69s\tremaining: 3.41s\n",
      "693:\tlearn: 0.5795566\ttotal: 7.71s\tremaining: 3.4s\n",
      "694:\tlearn: 0.5795164\ttotal: 7.72s\tremaining: 3.39s\n",
      "695:\tlearn: 0.5793381\ttotal: 7.73s\tremaining: 3.38s\n",
      "696:\tlearn: 0.5792076\ttotal: 7.74s\tremaining: 3.37s\n",
      "697:\tlearn: 0.5790056\ttotal: 7.75s\tremaining: 3.35s\n",
      "698:\tlearn: 0.5789240\ttotal: 7.76s\tremaining: 3.34s\n",
      "699:\tlearn: 0.5787589\ttotal: 7.77s\tremaining: 3.33s\n",
      "700:\tlearn: 0.5786246\ttotal: 7.79s\tremaining: 3.32s\n",
      "701:\tlearn: 0.5784666\ttotal: 7.8s\tremaining: 3.31s\n",
      "702:\tlearn: 0.5783387\ttotal: 7.81s\tremaining: 3.3s\n",
      "703:\tlearn: 0.5782149\ttotal: 7.82s\tremaining: 3.29s\n",
      "704:\tlearn: 0.5781172\ttotal: 7.83s\tremaining: 3.28s\n",
      "705:\tlearn: 0.5779874\ttotal: 7.84s\tremaining: 3.27s\n",
      "706:\tlearn: 0.5779138\ttotal: 7.86s\tremaining: 3.26s\n",
      "707:\tlearn: 0.5776802\ttotal: 7.87s\tremaining: 3.25s\n",
      "708:\tlearn: 0.5775470\ttotal: 7.88s\tremaining: 3.23s\n",
      "709:\tlearn: 0.5774608\ttotal: 7.89s\tremaining: 3.22s\n",
      "710:\tlearn: 0.5771486\ttotal: 7.9s\tremaining: 3.21s\n",
      "711:\tlearn: 0.5770338\ttotal: 7.92s\tremaining: 3.2s\n",
      "712:\tlearn: 0.5768920\ttotal: 7.93s\tremaining: 3.19s\n",
      "713:\tlearn: 0.5767643\ttotal: 7.94s\tremaining: 3.18s\n",
      "714:\tlearn: 0.5766098\ttotal: 7.95s\tremaining: 3.17s\n",
      "715:\tlearn: 0.5765518\ttotal: 7.96s\tremaining: 3.16s\n",
      "716:\tlearn: 0.5764534\ttotal: 7.97s\tremaining: 3.15s\n",
      "717:\tlearn: 0.5761697\ttotal: 7.98s\tremaining: 3.13s\n",
      "718:\tlearn: 0.5759861\ttotal: 7.99s\tremaining: 3.12s\n",
      "719:\tlearn: 0.5757485\ttotal: 8.01s\tremaining: 3.11s\n",
      "720:\tlearn: 0.5756224\ttotal: 8.02s\tremaining: 3.1s\n",
      "721:\tlearn: 0.5754500\ttotal: 8.03s\tremaining: 3.09s\n",
      "722:\tlearn: 0.5752620\ttotal: 8.04s\tremaining: 3.08s\n",
      "723:\tlearn: 0.5751441\ttotal: 8.05s\tremaining: 3.07s\n",
      "724:\tlearn: 0.5749912\ttotal: 8.06s\tremaining: 3.06s\n",
      "725:\tlearn: 0.5748828\ttotal: 8.07s\tremaining: 3.05s\n",
      "726:\tlearn: 0.5747365\ttotal: 8.08s\tremaining: 3.04s\n",
      "727:\tlearn: 0.5745728\ttotal: 8.09s\tremaining: 3.02s\n",
      "728:\tlearn: 0.5744096\ttotal: 8.11s\tremaining: 3.01s\n",
      "729:\tlearn: 0.5742557\ttotal: 8.12s\tremaining: 3s\n",
      "730:\tlearn: 0.5741691\ttotal: 8.13s\tremaining: 2.99s\n",
      "731:\tlearn: 0.5739900\ttotal: 8.14s\tremaining: 2.98s\n",
      "732:\tlearn: 0.5737955\ttotal: 8.15s\tremaining: 2.97s\n",
      "733:\tlearn: 0.5736392\ttotal: 8.16s\tremaining: 2.96s\n",
      "734:\tlearn: 0.5735502\ttotal: 8.18s\tremaining: 2.95s\n",
      "735:\tlearn: 0.5733149\ttotal: 8.19s\tremaining: 2.94s\n",
      "736:\tlearn: 0.5730699\ttotal: 8.2s\tremaining: 2.92s\n",
      "737:\tlearn: 0.5729143\ttotal: 8.21s\tremaining: 2.91s\n",
      "738:\tlearn: 0.5726941\ttotal: 8.22s\tremaining: 2.9s\n",
      "739:\tlearn: 0.5726327\ttotal: 8.23s\tremaining: 2.89s\n",
      "740:\tlearn: 0.5724759\ttotal: 8.24s\tremaining: 2.88s\n",
      "741:\tlearn: 0.5723799\ttotal: 8.26s\tremaining: 2.87s\n",
      "742:\tlearn: 0.5722618\ttotal: 8.27s\tremaining: 2.86s\n",
      "743:\tlearn: 0.5721000\ttotal: 8.28s\tremaining: 2.85s\n",
      "744:\tlearn: 0.5719565\ttotal: 8.29s\tremaining: 2.84s\n",
      "745:\tlearn: 0.5717900\ttotal: 8.3s\tremaining: 2.83s\n",
      "746:\tlearn: 0.5716610\ttotal: 8.32s\tremaining: 2.82s\n",
      "747:\tlearn: 0.5714780\ttotal: 8.33s\tremaining: 2.81s\n",
      "748:\tlearn: 0.5712888\ttotal: 8.34s\tremaining: 2.79s\n",
      "749:\tlearn: 0.5711796\ttotal: 8.35s\tremaining: 2.78s\n",
      "750:\tlearn: 0.5710673\ttotal: 8.36s\tremaining: 2.77s\n",
      "751:\tlearn: 0.5709749\ttotal: 8.38s\tremaining: 2.76s\n",
      "752:\tlearn: 0.5708251\ttotal: 8.39s\tremaining: 2.75s\n",
      "753:\tlearn: 0.5706692\ttotal: 8.4s\tremaining: 2.74s\n",
      "754:\tlearn: 0.5705471\ttotal: 8.41s\tremaining: 2.73s\n",
      "755:\tlearn: 0.5703907\ttotal: 8.42s\tremaining: 2.72s\n",
      "756:\tlearn: 0.5702714\ttotal: 8.43s\tremaining: 2.71s\n",
      "757:\tlearn: 0.5700393\ttotal: 8.45s\tremaining: 2.7s\n",
      "758:\tlearn: 0.5698803\ttotal: 8.46s\tremaining: 2.69s\n",
      "759:\tlearn: 0.5696963\ttotal: 8.47s\tremaining: 2.67s\n",
      "760:\tlearn: 0.5695498\ttotal: 8.48s\tremaining: 2.66s\n",
      "761:\tlearn: 0.5693148\ttotal: 8.49s\tremaining: 2.65s\n",
      "762:\tlearn: 0.5691443\ttotal: 8.5s\tremaining: 2.64s\n",
      "763:\tlearn: 0.5690215\ttotal: 8.52s\tremaining: 2.63s\n",
      "764:\tlearn: 0.5687638\ttotal: 8.53s\tremaining: 2.62s\n",
      "765:\tlearn: 0.5685827\ttotal: 8.54s\tremaining: 2.61s\n",
      "766:\tlearn: 0.5684680\ttotal: 8.55s\tremaining: 2.6s\n",
      "767:\tlearn: 0.5683372\ttotal: 8.56s\tremaining: 2.59s\n",
      "768:\tlearn: 0.5682095\ttotal: 8.57s\tremaining: 2.58s\n",
      "769:\tlearn: 0.5680527\ttotal: 8.59s\tremaining: 2.56s\n",
      "770:\tlearn: 0.5678431\ttotal: 8.6s\tremaining: 2.55s\n",
      "771:\tlearn: 0.5677085\ttotal: 8.61s\tremaining: 2.54s\n",
      "772:\tlearn: 0.5675735\ttotal: 8.62s\tremaining: 2.53s\n",
      "773:\tlearn: 0.5674305\ttotal: 8.63s\tremaining: 2.52s\n",
      "774:\tlearn: 0.5673507\ttotal: 8.64s\tremaining: 2.51s\n",
      "775:\tlearn: 0.5673088\ttotal: 8.65s\tremaining: 2.5s\n",
      "776:\tlearn: 0.5671698\ttotal: 8.66s\tremaining: 2.49s\n",
      "777:\tlearn: 0.5670720\ttotal: 8.67s\tremaining: 2.48s\n",
      "778:\tlearn: 0.5669458\ttotal: 8.69s\tremaining: 2.46s\n",
      "779:\tlearn: 0.5668857\ttotal: 8.7s\tremaining: 2.45s\n",
      "780:\tlearn: 0.5667933\ttotal: 8.71s\tremaining: 2.44s\n",
      "781:\tlearn: 0.5666600\ttotal: 8.72s\tremaining: 2.43s\n",
      "782:\tlearn: 0.5665131\ttotal: 8.73s\tremaining: 2.42s\n",
      "783:\tlearn: 0.5662629\ttotal: 8.74s\tremaining: 2.41s\n",
      "784:\tlearn: 0.5660872\ttotal: 8.76s\tremaining: 2.4s\n",
      "785:\tlearn: 0.5660119\ttotal: 8.77s\tremaining: 2.39s\n",
      "786:\tlearn: 0.5659292\ttotal: 8.78s\tremaining: 2.38s\n",
      "787:\tlearn: 0.5656974\ttotal: 8.79s\tremaining: 2.36s\n",
      "788:\tlearn: 0.5655552\ttotal: 8.8s\tremaining: 2.35s\n",
      "789:\tlearn: 0.5654706\ttotal: 8.81s\tremaining: 2.34s\n",
      "790:\tlearn: 0.5653373\ttotal: 8.82s\tremaining: 2.33s\n",
      "791:\tlearn: 0.5651967\ttotal: 8.83s\tremaining: 2.32s\n",
      "792:\tlearn: 0.5651073\ttotal: 8.84s\tremaining: 2.31s\n",
      "793:\tlearn: 0.5649437\ttotal: 8.85s\tremaining: 2.3s\n",
      "794:\tlearn: 0.5648123\ttotal: 8.86s\tremaining: 2.28s\n",
      "795:\tlearn: 0.5646795\ttotal: 8.87s\tremaining: 2.27s\n",
      "796:\tlearn: 0.5645240\ttotal: 8.88s\tremaining: 2.26s\n",
      "797:\tlearn: 0.5643672\ttotal: 8.89s\tremaining: 2.25s\n",
      "798:\tlearn: 0.5641610\ttotal: 8.9s\tremaining: 2.24s\n",
      "799:\tlearn: 0.5639986\ttotal: 8.91s\tremaining: 2.23s\n",
      "800:\tlearn: 0.5639423\ttotal: 8.93s\tremaining: 2.22s\n",
      "801:\tlearn: 0.5637707\ttotal: 8.94s\tremaining: 2.21s\n",
      "802:\tlearn: 0.5636033\ttotal: 8.95s\tremaining: 2.19s\n",
      "803:\tlearn: 0.5634657\ttotal: 8.96s\tremaining: 2.18s\n",
      "804:\tlearn: 0.5633394\ttotal: 8.97s\tremaining: 2.17s\n",
      "805:\tlearn: 0.5631575\ttotal: 8.98s\tremaining: 2.16s\n",
      "806:\tlearn: 0.5630163\ttotal: 8.99s\tremaining: 2.15s\n",
      "807:\tlearn: 0.5628571\ttotal: 9s\tremaining: 2.14s\n",
      "808:\tlearn: 0.5627754\ttotal: 9.02s\tremaining: 2.13s\n",
      "809:\tlearn: 0.5626353\ttotal: 9.03s\tremaining: 2.12s\n",
      "810:\tlearn: 0.5625260\ttotal: 9.04s\tremaining: 2.1s\n",
      "811:\tlearn: 0.5623724\ttotal: 9.05s\tremaining: 2.09s\n",
      "812:\tlearn: 0.5622669\ttotal: 9.06s\tremaining: 2.08s\n",
      "813:\tlearn: 0.5621694\ttotal: 9.07s\tremaining: 2.07s\n",
      "814:\tlearn: 0.5620346\ttotal: 9.08s\tremaining: 2.06s\n",
      "815:\tlearn: 0.5619702\ttotal: 9.09s\tremaining: 2.05s\n",
      "816:\tlearn: 0.5618879\ttotal: 9.1s\tremaining: 2.04s\n",
      "817:\tlearn: 0.5618042\ttotal: 9.11s\tremaining: 2.03s\n",
      "818:\tlearn: 0.5616995\ttotal: 9.12s\tremaining: 2.02s\n",
      "819:\tlearn: 0.5616097\ttotal: 9.13s\tremaining: 2s\n",
      "820:\tlearn: 0.5614488\ttotal: 9.14s\tremaining: 1.99s\n",
      "821:\tlearn: 0.5613678\ttotal: 9.15s\tremaining: 1.98s\n",
      "822:\tlearn: 0.5612390\ttotal: 9.16s\tremaining: 1.97s\n",
      "823:\tlearn: 0.5611124\ttotal: 9.18s\tremaining: 1.96s\n",
      "824:\tlearn: 0.5610564\ttotal: 9.19s\tremaining: 1.95s\n",
      "825:\tlearn: 0.5609370\ttotal: 9.2s\tremaining: 1.94s\n",
      "826:\tlearn: 0.5608280\ttotal: 9.21s\tremaining: 1.93s\n",
      "827:\tlearn: 0.5607520\ttotal: 9.22s\tremaining: 1.91s\n",
      "828:\tlearn: 0.5606840\ttotal: 9.23s\tremaining: 1.9s\n",
      "829:\tlearn: 0.5605021\ttotal: 9.24s\tremaining: 1.89s\n",
      "830:\tlearn: 0.5604082\ttotal: 9.25s\tremaining: 1.88s\n",
      "831:\tlearn: 0.5603349\ttotal: 9.26s\tremaining: 1.87s\n",
      "832:\tlearn: 0.5602264\ttotal: 9.27s\tremaining: 1.86s\n",
      "833:\tlearn: 0.5601448\ttotal: 9.28s\tremaining: 1.85s\n",
      "834:\tlearn: 0.5600754\ttotal: 9.29s\tremaining: 1.84s\n",
      "835:\tlearn: 0.5600017\ttotal: 9.3s\tremaining: 1.82s\n",
      "836:\tlearn: 0.5598416\ttotal: 9.31s\tremaining: 1.81s\n",
      "837:\tlearn: 0.5596947\ttotal: 9.32s\tremaining: 1.8s\n",
      "838:\tlearn: 0.5595870\ttotal: 9.33s\tremaining: 1.79s\n",
      "839:\tlearn: 0.5594340\ttotal: 9.35s\tremaining: 1.78s\n",
      "840:\tlearn: 0.5592977\ttotal: 9.36s\tremaining: 1.77s\n",
      "841:\tlearn: 0.5592018\ttotal: 9.37s\tremaining: 1.76s\n",
      "842:\tlearn: 0.5590431\ttotal: 9.38s\tremaining: 1.75s\n",
      "843:\tlearn: 0.5589292\ttotal: 9.39s\tremaining: 1.74s\n",
      "844:\tlearn: 0.5588549\ttotal: 9.4s\tremaining: 1.72s\n",
      "845:\tlearn: 0.5587274\ttotal: 9.41s\tremaining: 1.71s\n",
      "846:\tlearn: 0.5585414\ttotal: 9.42s\tremaining: 1.7s\n",
      "847:\tlearn: 0.5584372\ttotal: 9.43s\tremaining: 1.69s\n",
      "848:\tlearn: 0.5583322\ttotal: 9.44s\tremaining: 1.68s\n",
      "849:\tlearn: 0.5581985\ttotal: 9.45s\tremaining: 1.67s\n",
      "850:\tlearn: 0.5580922\ttotal: 9.46s\tremaining: 1.66s\n",
      "851:\tlearn: 0.5579646\ttotal: 9.47s\tremaining: 1.65s\n",
      "852:\tlearn: 0.5578344\ttotal: 9.48s\tremaining: 1.63s\n",
      "853:\tlearn: 0.5576898\ttotal: 9.5s\tremaining: 1.62s\n",
      "854:\tlearn: 0.5576233\ttotal: 9.51s\tremaining: 1.61s\n",
      "855:\tlearn: 0.5574911\ttotal: 9.52s\tremaining: 1.6s\n",
      "856:\tlearn: 0.5573144\ttotal: 9.53s\tremaining: 1.59s\n",
      "857:\tlearn: 0.5571570\ttotal: 9.54s\tremaining: 1.58s\n",
      "858:\tlearn: 0.5570728\ttotal: 9.55s\tremaining: 1.57s\n",
      "859:\tlearn: 0.5570130\ttotal: 9.56s\tremaining: 1.56s\n",
      "860:\tlearn: 0.5568037\ttotal: 9.57s\tremaining: 1.54s\n",
      "861:\tlearn: 0.5566363\ttotal: 9.58s\tremaining: 1.53s\n",
      "862:\tlearn: 0.5564447\ttotal: 9.59s\tremaining: 1.52s\n",
      "863:\tlearn: 0.5563283\ttotal: 9.61s\tremaining: 1.51s\n",
      "864:\tlearn: 0.5562737\ttotal: 9.62s\tremaining: 1.5s\n",
      "865:\tlearn: 0.5561699\ttotal: 9.63s\tremaining: 1.49s\n",
      "866:\tlearn: 0.5560619\ttotal: 9.64s\tremaining: 1.48s\n",
      "867:\tlearn: 0.5559072\ttotal: 9.65s\tremaining: 1.47s\n",
      "868:\tlearn: 0.5557823\ttotal: 9.66s\tremaining: 1.46s\n",
      "869:\tlearn: 0.5556742\ttotal: 9.67s\tremaining: 1.45s\n",
      "870:\tlearn: 0.5556249\ttotal: 9.68s\tremaining: 1.43s\n",
      "871:\tlearn: 0.5555464\ttotal: 9.69s\tremaining: 1.42s\n",
      "872:\tlearn: 0.5553612\ttotal: 9.7s\tremaining: 1.41s\n",
      "873:\tlearn: 0.5553048\ttotal: 9.71s\tremaining: 1.4s\n",
      "874:\tlearn: 0.5551817\ttotal: 9.72s\tremaining: 1.39s\n",
      "875:\tlearn: 0.5550430\ttotal: 9.73s\tremaining: 1.38s\n",
      "876:\tlearn: 0.5549060\ttotal: 9.75s\tremaining: 1.37s\n",
      "877:\tlearn: 0.5548260\ttotal: 9.76s\tremaining: 1.35s\n",
      "878:\tlearn: 0.5546776\ttotal: 9.77s\tremaining: 1.34s\n",
      "879:\tlearn: 0.5545421\ttotal: 9.78s\tremaining: 1.33s\n",
      "880:\tlearn: 0.5544085\ttotal: 9.79s\tremaining: 1.32s\n",
      "881:\tlearn: 0.5543123\ttotal: 9.8s\tremaining: 1.31s\n",
      "882:\tlearn: 0.5542350\ttotal: 9.81s\tremaining: 1.3s\n",
      "883:\tlearn: 0.5540466\ttotal: 9.82s\tremaining: 1.29s\n",
      "884:\tlearn: 0.5539960\ttotal: 9.83s\tremaining: 1.28s\n",
      "885:\tlearn: 0.5538358\ttotal: 9.84s\tremaining: 1.27s\n",
      "886:\tlearn: 0.5537052\ttotal: 9.86s\tremaining: 1.25s\n",
      "887:\tlearn: 0.5536507\ttotal: 9.87s\tremaining: 1.24s\n",
      "888:\tlearn: 0.5535382\ttotal: 9.88s\tremaining: 1.23s\n",
      "889:\tlearn: 0.5534495\ttotal: 9.89s\tremaining: 1.22s\n",
      "890:\tlearn: 0.5533001\ttotal: 9.9s\tremaining: 1.21s\n",
      "891:\tlearn: 0.5531566\ttotal: 9.91s\tremaining: 1.2s\n",
      "892:\tlearn: 0.5530225\ttotal: 9.92s\tremaining: 1.19s\n",
      "893:\tlearn: 0.5529300\ttotal: 9.93s\tremaining: 1.18s\n",
      "894:\tlearn: 0.5528013\ttotal: 9.94s\tremaining: 1.17s\n",
      "895:\tlearn: 0.5527218\ttotal: 9.95s\tremaining: 1.16s\n",
      "896:\tlearn: 0.5525751\ttotal: 9.96s\tremaining: 1.14s\n",
      "897:\tlearn: 0.5524365\ttotal: 9.98s\tremaining: 1.13s\n",
      "898:\tlearn: 0.5523346\ttotal: 9.99s\tremaining: 1.12s\n",
      "899:\tlearn: 0.5522145\ttotal: 10s\tremaining: 1.11s\n",
      "900:\tlearn: 0.5521243\ttotal: 10s\tremaining: 1.1s\n",
      "901:\tlearn: 0.5520303\ttotal: 10s\tremaining: 1.09s\n",
      "902:\tlearn: 0.5518903\ttotal: 10s\tremaining: 1.08s\n",
      "903:\tlearn: 0.5518102\ttotal: 10s\tremaining: 1.07s\n",
      "904:\tlearn: 0.5517329\ttotal: 10.1s\tremaining: 1.05s\n",
      "905:\tlearn: 0.5517031\ttotal: 10.1s\tremaining: 1.04s\n",
      "906:\tlearn: 0.5516712\ttotal: 10.1s\tremaining: 1.03s\n",
      "907:\tlearn: 0.5515773\ttotal: 10.1s\tremaining: 1.02s\n",
      "908:\tlearn: 0.5513538\ttotal: 10.1s\tremaining: 1.01s\n",
      "909:\tlearn: 0.5512234\ttotal: 10.1s\tremaining: 1000ms\n",
      "910:\tlearn: 0.5511021\ttotal: 10.1s\tremaining: 988ms\n",
      "911:\tlearn: 0.5510274\ttotal: 10.1s\tremaining: 977ms\n",
      "912:\tlearn: 0.5509186\ttotal: 10.1s\tremaining: 966ms\n",
      "913:\tlearn: 0.5507985\ttotal: 10.2s\tremaining: 955ms\n",
      "914:\tlearn: 0.5506951\ttotal: 10.2s\tremaining: 944ms\n",
      "915:\tlearn: 0.5506498\ttotal: 10.2s\tremaining: 933ms\n",
      "916:\tlearn: 0.5504555\ttotal: 10.2s\tremaining: 922ms\n",
      "917:\tlearn: 0.5503449\ttotal: 10.2s\tremaining: 911ms\n",
      "918:\tlearn: 0.5502542\ttotal: 10.2s\tremaining: 899ms\n",
      "919:\tlearn: 0.5501123\ttotal: 10.2s\tremaining: 888ms\n",
      "920:\tlearn: 0.5500235\ttotal: 10.2s\tremaining: 877ms\n",
      "921:\tlearn: 0.5498740\ttotal: 10.2s\tremaining: 866ms\n",
      "922:\tlearn: 0.5497816\ttotal: 10.2s\tremaining: 855ms\n",
      "923:\tlearn: 0.5497480\ttotal: 10.3s\tremaining: 844ms\n",
      "924:\tlearn: 0.5496620\ttotal: 10.3s\tremaining: 833ms\n",
      "925:\tlearn: 0.5495333\ttotal: 10.3s\tremaining: 821ms\n",
      "926:\tlearn: 0.5494040\ttotal: 10.3s\tremaining: 810ms\n",
      "927:\tlearn: 0.5493111\ttotal: 10.3s\tremaining: 799ms\n",
      "928:\tlearn: 0.5492022\ttotal: 10.3s\tremaining: 788ms\n",
      "929:\tlearn: 0.5490311\ttotal: 10.3s\tremaining: 777ms\n",
      "930:\tlearn: 0.5489794\ttotal: 10.3s\tremaining: 766ms\n",
      "931:\tlearn: 0.5488126\ttotal: 10.3s\tremaining: 755ms\n",
      "932:\tlearn: 0.5487086\ttotal: 10.4s\tremaining: 744ms\n",
      "933:\tlearn: 0.5485891\ttotal: 10.4s\tremaining: 733ms\n",
      "934:\tlearn: 0.5485167\ttotal: 10.4s\tremaining: 721ms\n",
      "935:\tlearn: 0.5484171\ttotal: 10.4s\tremaining: 710ms\n",
      "936:\tlearn: 0.5482970\ttotal: 10.4s\tremaining: 699ms\n",
      "937:\tlearn: 0.5481270\ttotal: 10.4s\tremaining: 688ms\n",
      "938:\tlearn: 0.5479236\ttotal: 10.4s\tremaining: 677ms\n",
      "939:\tlearn: 0.5477432\ttotal: 10.4s\tremaining: 666ms\n",
      "940:\tlearn: 0.5476870\ttotal: 10.4s\tremaining: 655ms\n",
      "941:\tlearn: 0.5475773\ttotal: 10.4s\tremaining: 643ms\n",
      "942:\tlearn: 0.5475133\ttotal: 10.5s\tremaining: 632ms\n",
      "943:\tlearn: 0.5473722\ttotal: 10.5s\tremaining: 621ms\n",
      "944:\tlearn: 0.5472325\ttotal: 10.5s\tremaining: 610ms\n",
      "945:\tlearn: 0.5471658\ttotal: 10.5s\tremaining: 599ms\n",
      "946:\tlearn: 0.5470669\ttotal: 10.5s\tremaining: 588ms\n",
      "947:\tlearn: 0.5468960\ttotal: 10.5s\tremaining: 577ms\n",
      "948:\tlearn: 0.5467922\ttotal: 10.5s\tremaining: 566ms\n",
      "949:\tlearn: 0.5467407\ttotal: 10.5s\tremaining: 555ms\n",
      "950:\tlearn: 0.5464805\ttotal: 10.5s\tremaining: 543ms\n",
      "951:\tlearn: 0.5463828\ttotal: 10.6s\tremaining: 532ms\n",
      "952:\tlearn: 0.5462112\ttotal: 10.6s\tremaining: 521ms\n",
      "953:\tlearn: 0.5461100\ttotal: 10.6s\tremaining: 510ms\n",
      "954:\tlearn: 0.5459905\ttotal: 10.6s\tremaining: 499ms\n",
      "955:\tlearn: 0.5458090\ttotal: 10.6s\tremaining: 488ms\n",
      "956:\tlearn: 0.5457583\ttotal: 10.6s\tremaining: 477ms\n",
      "957:\tlearn: 0.5456326\ttotal: 10.6s\tremaining: 466ms\n",
      "958:\tlearn: 0.5455259\ttotal: 10.6s\tremaining: 455ms\n",
      "959:\tlearn: 0.5454115\ttotal: 10.6s\tremaining: 444ms\n",
      "960:\tlearn: 0.5453596\ttotal: 10.7s\tremaining: 433ms\n",
      "961:\tlearn: 0.5451975\ttotal: 10.7s\tremaining: 421ms\n",
      "962:\tlearn: 0.5450655\ttotal: 10.7s\tremaining: 410ms\n",
      "963:\tlearn: 0.5449357\ttotal: 10.7s\tremaining: 399ms\n",
      "964:\tlearn: 0.5448677\ttotal: 10.7s\tremaining: 388ms\n",
      "965:\tlearn: 0.5446969\ttotal: 10.7s\tremaining: 377ms\n",
      "966:\tlearn: 0.5445233\ttotal: 10.7s\tremaining: 366ms\n",
      "967:\tlearn: 0.5444386\ttotal: 10.7s\tremaining: 355ms\n",
      "968:\tlearn: 0.5443236\ttotal: 10.7s\tremaining: 344ms\n",
      "969:\tlearn: 0.5442067\ttotal: 10.8s\tremaining: 333ms\n",
      "970:\tlearn: 0.5440200\ttotal: 10.8s\tremaining: 322ms\n",
      "971:\tlearn: 0.5439781\ttotal: 10.8s\tremaining: 310ms\n",
      "972:\tlearn: 0.5438489\ttotal: 10.8s\tremaining: 299ms\n",
      "973:\tlearn: 0.5437302\ttotal: 10.8s\tremaining: 288ms\n",
      "974:\tlearn: 0.5436137\ttotal: 10.8s\tremaining: 277ms\n",
      "975:\tlearn: 0.5434138\ttotal: 10.8s\tremaining: 266ms\n",
      "976:\tlearn: 0.5432321\ttotal: 10.8s\tremaining: 255ms\n",
      "977:\tlearn: 0.5431333\ttotal: 10.8s\tremaining: 244ms\n",
      "978:\tlearn: 0.5430768\ttotal: 10.9s\tremaining: 233ms\n",
      "979:\tlearn: 0.5428176\ttotal: 10.9s\tremaining: 222ms\n",
      "980:\tlearn: 0.5427498\ttotal: 10.9s\tremaining: 211ms\n",
      "981:\tlearn: 0.5424138\ttotal: 10.9s\tremaining: 200ms\n",
      "982:\tlearn: 0.5423413\ttotal: 10.9s\tremaining: 188ms\n",
      "983:\tlearn: 0.5421883\ttotal: 10.9s\tremaining: 177ms\n",
      "984:\tlearn: 0.5419613\ttotal: 10.9s\tremaining: 166ms\n",
      "985:\tlearn: 0.5418825\ttotal: 10.9s\tremaining: 155ms\n",
      "986:\tlearn: 0.5418027\ttotal: 10.9s\tremaining: 144ms\n",
      "987:\tlearn: 0.5417132\ttotal: 10.9s\tremaining: 133ms\n",
      "988:\tlearn: 0.5416380\ttotal: 11s\tremaining: 122ms\n",
      "989:\tlearn: 0.5416016\ttotal: 11s\tremaining: 111ms\n",
      "990:\tlearn: 0.5414700\ttotal: 11s\tremaining: 99.8ms\n",
      "991:\tlearn: 0.5413351\ttotal: 11s\tremaining: 88.7ms\n",
      "992:\tlearn: 0.5411892\ttotal: 11s\tremaining: 77.6ms\n",
      "993:\tlearn: 0.5410866\ttotal: 11s\tremaining: 66.5ms\n",
      "994:\tlearn: 0.5409596\ttotal: 11s\tremaining: 55.4ms\n",
      "995:\tlearn: 0.5407824\ttotal: 11s\tremaining: 44.3ms\n",
      "996:\tlearn: 0.5406128\ttotal: 11.1s\tremaining: 33.3ms\n",
      "997:\tlearn: 0.5404729\ttotal: 11.1s\tremaining: 22.2ms\n",
      "998:\tlearn: 0.5403655\ttotal: 11.1s\tremaining: 11.1ms\n",
      "999:\tlearn: 0.5402359\ttotal: 11.1s\tremaining: 0us\n"
     ]
    },
    {
     "data": {
      "text/plain": [
       "<catboost.core.CatBoostClassifier at 0x7f2371cf2310>"
      ]
     },
     "execution_count": 38,
     "metadata": {},
     "output_type": "execute_result"
    }
   ],
   "source": [
    "from catboost import CatBoostClassifier\n",
    "classifier = CatBoostClassifier()\n",
    "classifier.fit(X_train, y_train)"
   ]
  },
  {
   "cell_type": "code",
   "execution_count": 39,
   "id": "fe8e8a7f",
   "metadata": {
    "execution": {
     "iopub.execute_input": "2022-02-12T19:49:59.338100Z",
     "iopub.status.busy": "2022-02-12T19:49:58.624175Z",
     "iopub.status.idle": "2022-02-12T19:49:59.353115Z",
     "shell.execute_reply": "2022-02-12T19:49:59.353710Z",
     "shell.execute_reply.started": "2022-02-12T19:47:05.574411Z"
    },
    "papermill": {
     "duration": 0.82934,
     "end_time": "2022-02-12T19:49:59.353889",
     "exception": false,
     "start_time": "2022-02-12T19:49:58.524549",
     "status": "completed"
    },
    "tags": []
   },
   "outputs": [
    {
     "name": "stdout",
     "output_type": "stream",
     "text": [
      "[[ 34 123  35]\n",
      " [ 44 552  47]\n",
      " [  6 109 219]]\n"
     ]
    }
   ],
   "source": [
    "from sklearn.metrics import confusion_matrix, accuracy_score\n",
    "y_pred = classifier.predict(X_test)\n",
    "cm = confusion_matrix(y_test, y_pred)\n",
    "print(cm)"
   ]
  },
  {
   "cell_type": "code",
   "execution_count": 40,
   "id": "32c576d3",
   "metadata": {
    "execution": {
     "iopub.execute_input": "2022-02-12T19:49:59.553291Z",
     "iopub.status.busy": "2022-02-12T19:49:59.552286Z",
     "iopub.status.idle": "2022-02-12T19:49:59.729442Z",
     "shell.execute_reply": "2022-02-12T19:49:59.728780Z",
     "shell.execute_reply.started": "2022-02-12T19:47:06.288930Z"
    },
    "papermill": {
     "duration": 0.279287,
     "end_time": "2022-02-12T19:49:59.729592",
     "exception": false,
     "start_time": "2022-02-12T19:49:59.450305",
     "status": "completed"
    },
    "tags": []
   },
   "outputs": [
    {
     "data": {
      "image/png": "[encoded data removed]",
      "text/plain": [
       "<Figure size 432x288 with 2 Axes>"
      ]
     },
     "metadata": {
      "needs_background": "light"
     },
     "output_type": "display_data"
    }
   ],
   "source": [
    "sns.heatmap(cm,annot=True)\n",
    "plt.show()"
   ]
  },
  {
   "cell_type": "code",
   "execution_count": 41,
   "id": "f259fabc",
   "metadata": {
    "execution": {
     "iopub.execute_input": "2022-02-12T19:49:59.932518Z",
     "iopub.status.busy": "2022-02-12T19:49:59.931639Z",
     "iopub.status.idle": "2022-02-12T19:49:59.935198Z",
     "shell.execute_reply": "2022-02-12T19:49:59.935906Z",
     "shell.execute_reply.started": "2022-02-12T19:47:06.569862Z"
    },
    "papermill": {
     "duration": 0.108251,
     "end_time": "2022-02-12T19:49:59.936126",
     "exception": false,
     "start_time": "2022-02-12T19:49:59.827875",
     "status": "completed"
    },
    "tags": []
   },
   "outputs": [
    {
     "name": "stdout",
     "output_type": "stream",
     "text": [
      "0.688622754491018\n"
     ]
    }
   ],
   "source": [
    "acc4 = accuracy_score(y_test, y_pred)\n",
    "print(acc4)"
   ]
  },
  {
   "cell_type": "code",
   "execution_count": 42,
   "id": "4775df40",
   "metadata": {
    "execution": {
     "iopub.execute_input": "2022-02-12T19:50:00.165067Z",
     "iopub.status.busy": "2022-02-12T19:50:00.164007Z",
     "iopub.status.idle": "2022-02-12T19:50:00.408857Z",
     "shell.execute_reply": "2022-02-12T19:50:00.408268Z",
     "shell.execute_reply.started": "2022-02-12T19:47:06.577331Z"
    },
    "papermill": {
     "duration": 0.374245,
     "end_time": "2022-02-12T19:50:00.408998",
     "exception": false,
     "start_time": "2022-02-12T19:50:00.034753",
     "status": "completed"
    },
    "tags": []
   },
   "outputs": [
    {
     "data": {
      "image/png": "[encoded data removed]",
      "text/plain": [
       "<Figure size 1584x720 with 1 Axes>"
      ]
     },
     "metadata": {},
     "output_type": "display_data"
    }
   ],
   "source": [
    "mylist=[]\n",
    "mylist2=[]\n",
    "mylist.append(acc1)\n",
    "mylist2.append(\"Naive Bayes(bag of words)\")\n",
    "mylist.append(acc2)\n",
    "mylist2.append(\"Naive Bayes (Using TF - IDF technique)\")\n",
    "mylist.append(score)\n",
    "mylist2.append(\"MultinomialNB\")\n",
    "mylist.append(acc3)\n",
    "mylist2.append(\"XG Boost\")\n",
    "mylist.append(acc4)\n",
    "mylist2.append(\"Cat Boost\")\n",
    "plt.rcParams['figure.figsize']=22,10\n",
    "sns.set_style(\"darkgrid\")\n",
    "ax = sns.barplot(x=mylist2, y=mylist, palette = \"coolwarm\", saturation =1.5)\n",
    "plt.xlabel(\"Classification Models\", fontsize = 20 )\n",
    "plt.ylabel(\"Accuracy\", fontsize = 20)\n",
    "plt.title(\"Accuracy of different Classification Models\", fontsize = 20)\n",
    "plt.xticks(fontsize = 11, horizontalalignment = 'center', rotation = 8)\n",
    "plt.yticks(fontsize = 13)\n",
    "for p in ax.patches:\n",
    "    width, height = p.get_width(), p.get_height()\n",
    "    x, y = p.get_xy() \n",
    "    ax.annotate(f'{height:.2%}', (x + width/2, y + height*1.02), ha='center', fontsize = 'x-large')\n",
    "plt.show()"
   ]
  },
  {
   "cell_type": "markdown",
   "id": "e1351866",
   "metadata": {
    "papermill": {
     "duration": 0.100432,
     "end_time": "2022-02-12T19:50:00.610315",
     "exception": false,
     "start_time": "2022-02-12T19:50:00.509883",
     "status": "completed"
    },
    "tags": []
   },
   "source": [
    "![](https://www.blennz.school.nz/wp-content/uploads/2017/12/Thank-you-word-cloud-in-different-languages.png)"
   ]
  }
 ],
 "metadata": {
  "kernelspec": {
   "display_name": "Python 3",
   "language": "python",
   "name": "python3"
  },
  "language_info": {
   "codemirror_mode": {
    "name": "ipython",
    "version": 3
   },
   "file_extension": ".py",
   "mimetype": "text/x-python",
   "name": "python",
   "nbconvert_exporter": "python",
   "pygments_lexer": "ipython3",
   "version": "3.7.12"
  },
  "papermill": {
   "default_parameters": {},
   "duration": 85.855681,
   "end_time": "2022-02-12T19:50:01.623687",
   "environment_variables": {},
   "exception": null,
   "input_path": "__notebook__.ipynb",
   "output_path": "__notebook__.ipynb",
   "parameters": {},
   "start_time": "2022-02-12T19:48:35.768006",
   "version": "2.3.3"
  }
 },
 "nbformat": 4,
 "nbformat_minor": 5
}
